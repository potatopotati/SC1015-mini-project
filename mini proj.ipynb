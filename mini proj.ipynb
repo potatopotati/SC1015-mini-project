{
  "cells": [
    {
      "cell_type": "code",
      "execution_count": 2,
      "id": "721a4a14",
      "metadata": {
        "id": "721a4a14"
      },
      "outputs": [],
      "source": [
        "# Basic Libraries\n",
        "import numpy as np\n",
        "import pandas as pd\n",
        "import seaborn as sb\n",
        "import matplotlib.pyplot as plt # we only need pyplot\n",
        "sb.set() # set the default Seaborn style for graphics"
      ]
    },
    {
      "cell_type": "markdown",
      "id": "9f805b0b",
      "metadata": {
        "id": "9f805b0b"
      },
      "source": [
        "# Import the dataset"
      ]
    },
    {
      "cell_type": "code",
      "source": [
        "\n",
        "from google.colab import files\n",
        "import io\n",
        " \n",
        "uploaded = files.upload()"
      ],
      "metadata": {
        "colab": {
          "base_uri": "https://localhost:8080/",
          "height": 73
        },
        "id": "Ye7Pnb0FRJz7",
        "outputId": "c5477409-79f8-4a0f-8d98-c5d32ab9fc24"
      },
      "id": "Ye7Pnb0FRJz7",
      "execution_count": 3,
      "outputs": [
        {
          "output_type": "display_data",
          "data": {
            "text/plain": [
              "<IPython.core.display.HTML object>"
            ],
            "text/html": [
              "\n",
              "     <input type=\"file\" id=\"files-20bc5ecd-aef2-445f-8dc2-929baae41662\" name=\"files[]\" multiple disabled\n",
              "        style=\"border:none\" />\n",
              "     <output id=\"result-20bc5ecd-aef2-445f-8dc2-929baae41662\">\n",
              "      Upload widget is only available when the cell has been executed in the\n",
              "      current browser session. Please rerun this cell to enable.\n",
              "      </output>\n",
              "      <script>// Copyright 2017 Google LLC\n",
              "//\n",
              "// Licensed under the Apache License, Version 2.0 (the \"License\");\n",
              "// you may not use this file except in compliance with the License.\n",
              "// You may obtain a copy of the License at\n",
              "//\n",
              "//      http://www.apache.org/licenses/LICENSE-2.0\n",
              "//\n",
              "// Unless required by applicable law or agreed to in writing, software\n",
              "// distributed under the License is distributed on an \"AS IS\" BASIS,\n",
              "// WITHOUT WARRANTIES OR CONDITIONS OF ANY KIND, either express or implied.\n",
              "// See the License for the specific language governing permissions and\n",
              "// limitations under the License.\n",
              "\n",
              "/**\n",
              " * @fileoverview Helpers for google.colab Python module.\n",
              " */\n",
              "(function(scope) {\n",
              "function span(text, styleAttributes = {}) {\n",
              "  const element = document.createElement('span');\n",
              "  element.textContent = text;\n",
              "  for (const key of Object.keys(styleAttributes)) {\n",
              "    element.style[key] = styleAttributes[key];\n",
              "  }\n",
              "  return element;\n",
              "}\n",
              "\n",
              "// Max number of bytes which will be uploaded at a time.\n",
              "const MAX_PAYLOAD_SIZE = 100 * 1024;\n",
              "\n",
              "function _uploadFiles(inputId, outputId) {\n",
              "  const steps = uploadFilesStep(inputId, outputId);\n",
              "  const outputElement = document.getElementById(outputId);\n",
              "  // Cache steps on the outputElement to make it available for the next call\n",
              "  // to uploadFilesContinue from Python.\n",
              "  outputElement.steps = steps;\n",
              "\n",
              "  return _uploadFilesContinue(outputId);\n",
              "}\n",
              "\n",
              "// This is roughly an async generator (not supported in the browser yet),\n",
              "// where there are multiple asynchronous steps and the Python side is going\n",
              "// to poll for completion of each step.\n",
              "// This uses a Promise to block the python side on completion of each step,\n",
              "// then passes the result of the previous step as the input to the next step.\n",
              "function _uploadFilesContinue(outputId) {\n",
              "  const outputElement = document.getElementById(outputId);\n",
              "  const steps = outputElement.steps;\n",
              "\n",
              "  const next = steps.next(outputElement.lastPromiseValue);\n",
              "  return Promise.resolve(next.value.promise).then((value) => {\n",
              "    // Cache the last promise value to make it available to the next\n",
              "    // step of the generator.\n",
              "    outputElement.lastPromiseValue = value;\n",
              "    return next.value.response;\n",
              "  });\n",
              "}\n",
              "\n",
              "/**\n",
              " * Generator function which is called between each async step of the upload\n",
              " * process.\n",
              " * @param {string} inputId Element ID of the input file picker element.\n",
              " * @param {string} outputId Element ID of the output display.\n",
              " * @return {!Iterable<!Object>} Iterable of next steps.\n",
              " */\n",
              "function* uploadFilesStep(inputId, outputId) {\n",
              "  const inputElement = document.getElementById(inputId);\n",
              "  inputElement.disabled = false;\n",
              "\n",
              "  const outputElement = document.getElementById(outputId);\n",
              "  outputElement.innerHTML = '';\n",
              "\n",
              "  const pickedPromise = new Promise((resolve) => {\n",
              "    inputElement.addEventListener('change', (e) => {\n",
              "      resolve(e.target.files);\n",
              "    });\n",
              "  });\n",
              "\n",
              "  const cancel = document.createElement('button');\n",
              "  inputElement.parentElement.appendChild(cancel);\n",
              "  cancel.textContent = 'Cancel upload';\n",
              "  const cancelPromise = new Promise((resolve) => {\n",
              "    cancel.onclick = () => {\n",
              "      resolve(null);\n",
              "    };\n",
              "  });\n",
              "\n",
              "  // Wait for the user to pick the files.\n",
              "  const files = yield {\n",
              "    promise: Promise.race([pickedPromise, cancelPromise]),\n",
              "    response: {\n",
              "      action: 'starting',\n",
              "    }\n",
              "  };\n",
              "\n",
              "  cancel.remove();\n",
              "\n",
              "  // Disable the input element since further picks are not allowed.\n",
              "  inputElement.disabled = true;\n",
              "\n",
              "  if (!files) {\n",
              "    return {\n",
              "      response: {\n",
              "        action: 'complete',\n",
              "      }\n",
              "    };\n",
              "  }\n",
              "\n",
              "  for (const file of files) {\n",
              "    const li = document.createElement('li');\n",
              "    li.append(span(file.name, {fontWeight: 'bold'}));\n",
              "    li.append(span(\n",
              "        `(${file.type || 'n/a'}) - ${file.size} bytes, ` +\n",
              "        `last modified: ${\n",
              "            file.lastModifiedDate ? file.lastModifiedDate.toLocaleDateString() :\n",
              "                                    'n/a'} - `));\n",
              "    const percent = span('0% done');\n",
              "    li.appendChild(percent);\n",
              "\n",
              "    outputElement.appendChild(li);\n",
              "\n",
              "    const fileDataPromise = new Promise((resolve) => {\n",
              "      const reader = new FileReader();\n",
              "      reader.onload = (e) => {\n",
              "        resolve(e.target.result);\n",
              "      };\n",
              "      reader.readAsArrayBuffer(file);\n",
              "    });\n",
              "    // Wait for the data to be ready.\n",
              "    let fileData = yield {\n",
              "      promise: fileDataPromise,\n",
              "      response: {\n",
              "        action: 'continue',\n",
              "      }\n",
              "    };\n",
              "\n",
              "    // Use a chunked sending to avoid message size limits. See b/62115660.\n",
              "    let position = 0;\n",
              "    do {\n",
              "      const length = Math.min(fileData.byteLength - position, MAX_PAYLOAD_SIZE);\n",
              "      const chunk = new Uint8Array(fileData, position, length);\n",
              "      position += length;\n",
              "\n",
              "      const base64 = btoa(String.fromCharCode.apply(null, chunk));\n",
              "      yield {\n",
              "        response: {\n",
              "          action: 'append',\n",
              "          file: file.name,\n",
              "          data: base64,\n",
              "        },\n",
              "      };\n",
              "\n",
              "      let percentDone = fileData.byteLength === 0 ?\n",
              "          100 :\n",
              "          Math.round((position / fileData.byteLength) * 100);\n",
              "      percent.textContent = `${percentDone}% done`;\n",
              "\n",
              "    } while (position < fileData.byteLength);\n",
              "  }\n",
              "\n",
              "  // All done.\n",
              "  yield {\n",
              "    response: {\n",
              "      action: 'complete',\n",
              "    }\n",
              "  };\n",
              "}\n",
              "\n",
              "scope.google = scope.google || {};\n",
              "scope.google.colab = scope.google.colab || {};\n",
              "scope.google.colab._files = {\n",
              "  _uploadFiles,\n",
              "  _uploadFilesContinue,\n",
              "};\n",
              "})(self);\n",
              "</script> "
            ]
          },
          "metadata": {}
        },
        {
          "output_type": "stream",
          "name": "stdout",
          "text": [
            "Saving student-por.csv to student-por.csv\n"
          ]
        }
      ]
    },
    {
      "cell_type": "code",
      "execution_count": 4,
      "id": "8dcc1ffb",
      "metadata": {
        "colab": {
          "base_uri": "https://localhost:8080/",
          "height": 279
        },
        "id": "8dcc1ffb",
        "outputId": "15ba7bf9-561f-45c6-883b-6bc52975a7af"
      },
      "outputs": [
        {
          "output_type": "execute_result",
          "data": {
            "text/plain": [
              "  school sex  age address famsize Pstatus  Medu  Fedu     Mjob      Fjob  ...  \\\n",
              "0     GP   F   18       U     GT3       A     4     4  at_home   teacher  ...   \n",
              "1     GP   F   17       U     GT3       T     1     1  at_home     other  ...   \n",
              "2     GP   F   15       U     LE3       T     1     1  at_home     other  ...   \n",
              "3     GP   F   15       U     GT3       T     4     2   health  services  ...   \n",
              "4     GP   F   16       U     GT3       T     3     3    other     other  ...   \n",
              "\n",
              "  famrel freetime  goout  Dalc  Walc health absences  G1  G2  G3  \n",
              "0      4        3      4     1     1      3        4   0  11  11  \n",
              "1      5        3      3     1     1      3        2   9  11  11  \n",
              "2      4        3      2     2     3      3        6  12  13  12  \n",
              "3      3        2      2     1     1      5        0  14  14  14  \n",
              "4      4        3      2     1     2      5        0  11  13  13  \n",
              "\n",
              "[5 rows x 33 columns]"
            ],
            "text/html": [
              "\n",
              "  <div id=\"df-b1d74482-79d9-49b5-a660-02760a984990\">\n",
              "    <div class=\"colab-df-container\">\n",
              "      <div>\n",
              "<style scoped>\n",
              "    .dataframe tbody tr th:only-of-type {\n",
              "        vertical-align: middle;\n",
              "    }\n",
              "\n",
              "    .dataframe tbody tr th {\n",
              "        vertical-align: top;\n",
              "    }\n",
              "\n",
              "    .dataframe thead th {\n",
              "        text-align: right;\n",
              "    }\n",
              "</style>\n",
              "<table border=\"1\" class=\"dataframe\">\n",
              "  <thead>\n",
              "    <tr style=\"text-align: right;\">\n",
              "      <th></th>\n",
              "      <th>school</th>\n",
              "      <th>sex</th>\n",
              "      <th>age</th>\n",
              "      <th>address</th>\n",
              "      <th>famsize</th>\n",
              "      <th>Pstatus</th>\n",
              "      <th>Medu</th>\n",
              "      <th>Fedu</th>\n",
              "      <th>Mjob</th>\n",
              "      <th>Fjob</th>\n",
              "      <th>...</th>\n",
              "      <th>famrel</th>\n",
              "      <th>freetime</th>\n",
              "      <th>goout</th>\n",
              "      <th>Dalc</th>\n",
              "      <th>Walc</th>\n",
              "      <th>health</th>\n",
              "      <th>absences</th>\n",
              "      <th>G1</th>\n",
              "      <th>G2</th>\n",
              "      <th>G3</th>\n",
              "    </tr>\n",
              "  </thead>\n",
              "  <tbody>\n",
              "    <tr>\n",
              "      <th>0</th>\n",
              "      <td>GP</td>\n",
              "      <td>F</td>\n",
              "      <td>18</td>\n",
              "      <td>U</td>\n",
              "      <td>GT3</td>\n",
              "      <td>A</td>\n",
              "      <td>4</td>\n",
              "      <td>4</td>\n",
              "      <td>at_home</td>\n",
              "      <td>teacher</td>\n",
              "      <td>...</td>\n",
              "      <td>4</td>\n",
              "      <td>3</td>\n",
              "      <td>4</td>\n",
              "      <td>1</td>\n",
              "      <td>1</td>\n",
              "      <td>3</td>\n",
              "      <td>4</td>\n",
              "      <td>0</td>\n",
              "      <td>11</td>\n",
              "      <td>11</td>\n",
              "    </tr>\n",
              "    <tr>\n",
              "      <th>1</th>\n",
              "      <td>GP</td>\n",
              "      <td>F</td>\n",
              "      <td>17</td>\n",
              "      <td>U</td>\n",
              "      <td>GT3</td>\n",
              "      <td>T</td>\n",
              "      <td>1</td>\n",
              "      <td>1</td>\n",
              "      <td>at_home</td>\n",
              "      <td>other</td>\n",
              "      <td>...</td>\n",
              "      <td>5</td>\n",
              "      <td>3</td>\n",
              "      <td>3</td>\n",
              "      <td>1</td>\n",
              "      <td>1</td>\n",
              "      <td>3</td>\n",
              "      <td>2</td>\n",
              "      <td>9</td>\n",
              "      <td>11</td>\n",
              "      <td>11</td>\n",
              "    </tr>\n",
              "    <tr>\n",
              "      <th>2</th>\n",
              "      <td>GP</td>\n",
              "      <td>F</td>\n",
              "      <td>15</td>\n",
              "      <td>U</td>\n",
              "      <td>LE3</td>\n",
              "      <td>T</td>\n",
              "      <td>1</td>\n",
              "      <td>1</td>\n",
              "      <td>at_home</td>\n",
              "      <td>other</td>\n",
              "      <td>...</td>\n",
              "      <td>4</td>\n",
              "      <td>3</td>\n",
              "      <td>2</td>\n",
              "      <td>2</td>\n",
              "      <td>3</td>\n",
              "      <td>3</td>\n",
              "      <td>6</td>\n",
              "      <td>12</td>\n",
              "      <td>13</td>\n",
              "      <td>12</td>\n",
              "    </tr>\n",
              "    <tr>\n",
              "      <th>3</th>\n",
              "      <td>GP</td>\n",
              "      <td>F</td>\n",
              "      <td>15</td>\n",
              "      <td>U</td>\n",
              "      <td>GT3</td>\n",
              "      <td>T</td>\n",
              "      <td>4</td>\n",
              "      <td>2</td>\n",
              "      <td>health</td>\n",
              "      <td>services</td>\n",
              "      <td>...</td>\n",
              "      <td>3</td>\n",
              "      <td>2</td>\n",
              "      <td>2</td>\n",
              "      <td>1</td>\n",
              "      <td>1</td>\n",
              "      <td>5</td>\n",
              "      <td>0</td>\n",
              "      <td>14</td>\n",
              "      <td>14</td>\n",
              "      <td>14</td>\n",
              "    </tr>\n",
              "    <tr>\n",
              "      <th>4</th>\n",
              "      <td>GP</td>\n",
              "      <td>F</td>\n",
              "      <td>16</td>\n",
              "      <td>U</td>\n",
              "      <td>GT3</td>\n",
              "      <td>T</td>\n",
              "      <td>3</td>\n",
              "      <td>3</td>\n",
              "      <td>other</td>\n",
              "      <td>other</td>\n",
              "      <td>...</td>\n",
              "      <td>4</td>\n",
              "      <td>3</td>\n",
              "      <td>2</td>\n",
              "      <td>1</td>\n",
              "      <td>2</td>\n",
              "      <td>5</td>\n",
              "      <td>0</td>\n",
              "      <td>11</td>\n",
              "      <td>13</td>\n",
              "      <td>13</td>\n",
              "    </tr>\n",
              "  </tbody>\n",
              "</table>\n",
              "<p>5 rows × 33 columns</p>\n",
              "</div>\n",
              "      <button class=\"colab-df-convert\" onclick=\"convertToInteractive('df-b1d74482-79d9-49b5-a660-02760a984990')\"\n",
              "              title=\"Convert this dataframe to an interactive table.\"\n",
              "              style=\"display:none;\">\n",
              "        \n",
              "  <svg xmlns=\"http://www.w3.org/2000/svg\" height=\"24px\"viewBox=\"0 0 24 24\"\n",
              "       width=\"24px\">\n",
              "    <path d=\"M0 0h24v24H0V0z\" fill=\"none\"/>\n",
              "    <path d=\"M18.56 5.44l.94 2.06.94-2.06 2.06-.94-2.06-.94-.94-2.06-.94 2.06-2.06.94zm-11 1L8.5 8.5l.94-2.06 2.06-.94-2.06-.94L8.5 2.5l-.94 2.06-2.06.94zm10 10l.94 2.06.94-2.06 2.06-.94-2.06-.94-.94-2.06-.94 2.06-2.06.94z\"/><path d=\"M17.41 7.96l-1.37-1.37c-.4-.4-.92-.59-1.43-.59-.52 0-1.04.2-1.43.59L10.3 9.45l-7.72 7.72c-.78.78-.78 2.05 0 2.83L4 21.41c.39.39.9.59 1.41.59.51 0 1.02-.2 1.41-.59l7.78-7.78 2.81-2.81c.8-.78.8-2.07 0-2.86zM5.41 20L4 18.59l7.72-7.72 1.47 1.35L5.41 20z\"/>\n",
              "  </svg>\n",
              "      </button>\n",
              "      \n",
              "  <style>\n",
              "    .colab-df-container {\n",
              "      display:flex;\n",
              "      flex-wrap:wrap;\n",
              "      gap: 12px;\n",
              "    }\n",
              "\n",
              "    .colab-df-convert {\n",
              "      background-color: #E8F0FE;\n",
              "      border: none;\n",
              "      border-radius: 50%;\n",
              "      cursor: pointer;\n",
              "      display: none;\n",
              "      fill: #1967D2;\n",
              "      height: 32px;\n",
              "      padding: 0 0 0 0;\n",
              "      width: 32px;\n",
              "    }\n",
              "\n",
              "    .colab-df-convert:hover {\n",
              "      background-color: #E2EBFA;\n",
              "      box-shadow: 0px 1px 2px rgba(60, 64, 67, 0.3), 0px 1px 3px 1px rgba(60, 64, 67, 0.15);\n",
              "      fill: #174EA6;\n",
              "    }\n",
              "\n",
              "    [theme=dark] .colab-df-convert {\n",
              "      background-color: #3B4455;\n",
              "      fill: #D2E3FC;\n",
              "    }\n",
              "\n",
              "    [theme=dark] .colab-df-convert:hover {\n",
              "      background-color: #434B5C;\n",
              "      box-shadow: 0px 1px 3px 1px rgba(0, 0, 0, 0.15);\n",
              "      filter: drop-shadow(0px 1px 2px rgba(0, 0, 0, 0.3));\n",
              "      fill: #FFFFFF;\n",
              "    }\n",
              "  </style>\n",
              "\n",
              "      <script>\n",
              "        const buttonEl =\n",
              "          document.querySelector('#df-b1d74482-79d9-49b5-a660-02760a984990 button.colab-df-convert');\n",
              "        buttonEl.style.display =\n",
              "          google.colab.kernel.accessAllowed ? 'block' : 'none';\n",
              "\n",
              "        async function convertToInteractive(key) {\n",
              "          const element = document.querySelector('#df-b1d74482-79d9-49b5-a660-02760a984990');\n",
              "          const dataTable =\n",
              "            await google.colab.kernel.invokeFunction('convertToInteractive',\n",
              "                                                     [key], {});\n",
              "          if (!dataTable) return;\n",
              "\n",
              "          const docLinkHtml = 'Like what you see? Visit the ' +\n",
              "            '<a target=\"_blank\" href=https://colab.research.google.com/notebooks/data_table.ipynb>data table notebook</a>'\n",
              "            + ' to learn more about interactive tables.';\n",
              "          element.innerHTML = '';\n",
              "          dataTable['output_type'] = 'display_data';\n",
              "          await google.colab.output.renderOutput(dataTable, element);\n",
              "          const docLink = document.createElement('div');\n",
              "          docLink.innerHTML = docLinkHtml;\n",
              "          element.appendChild(docLink);\n",
              "        }\n",
              "      </script>\n",
              "    </div>\n",
              "  </div>\n",
              "  "
            ]
          },
          "metadata": {},
          "execution_count": 4
        }
      ],
      "source": [
        "grade_df = pd.read_csv(io.BytesIO(uploaded['student-por.csv']))\n",
        "grade_df.head()"
      ]
    },
    {
      "cell_type": "markdown",
      "id": "9dcce980",
      "metadata": {
        "id": "9dcce980"
      },
      "source": [
        "# Choosing Response(Between G1,G2 and G3)\n"
      ]
    },
    {
      "cell_type": "code",
      "execution_count": 5,
      "id": "03ce099b",
      "metadata": {
        "id": "03ce099b",
        "colab": {
          "base_uri": "https://localhost:8080/",
          "height": 627
        },
        "outputId": "df3e5e14-7f98-4101-f2e7-a05126681edd"
      },
      "outputs": [
        {
          "output_type": "display_data",
          "data": {
            "text/plain": [
              "<Figure size 2000x1000 with 2 Axes>"
            ],
            "image/png": "[encoded data removed]"
          },
          "metadata": {}
        }
      ],
      "source": [
        "fig, axes = plt.subplots(1, 2, figsize=(20,10))\n",
        "axes[0].scatter(data=grade_df, x='G1', y='G3')\n",
        "axes[0].set_title('G3 VS G1')\n",
        "axes[0].set_xlabel('G1')\n",
        "axes[0].set_ylabel('G3')\n",
        "axes[1].scatter(data=grade_df, x='G2', y='G3')\n",
        "axes[1].set_title('G3 VS G2')\n",
        "axes[1].set_xlabel('G2')\n",
        "axes[1].set_ylabel('G3')\n",
        "plt.show()"
      ]
    },
    {
      "cell_type": "code",
      "execution_count": 6,
      "id": "50c1d841",
      "metadata": {
        "id": "50c1d841",
        "colab": {
          "base_uri": "https://localhost:8080/",
          "height": 487
        },
        "outputId": "8f8eaa21-6d94-4c1e-8dd5-075a38f68160"
      },
      "outputs": [
        {
          "output_type": "execute_result",
          "data": {
            "text/plain": [
              "    school sex  age address famsize Pstatus  Medu  Fedu      Mjob      Fjob  \\\n",
              "0       GP   F   18       U     GT3       A     4     4   at_home   teacher   \n",
              "1       GP   F   17       U     GT3       T     1     1   at_home     other   \n",
              "2       GP   F   15       U     LE3       T     1     1   at_home     other   \n",
              "3       GP   F   15       U     GT3       T     4     2    health  services   \n",
              "4       GP   F   16       U     GT3       T     3     3     other     other   \n",
              "..     ...  ..  ...     ...     ...     ...   ...   ...       ...       ...   \n",
              "644     MS   F   19       R     GT3       T     2     3  services     other   \n",
              "645     MS   F   18       U     LE3       T     3     1   teacher  services   \n",
              "646     MS   F   18       U     GT3       T     1     1     other     other   \n",
              "647     MS   M   17       U     LE3       T     3     1  services  services   \n",
              "648     MS   M   18       R     LE3       T     3     2  services     other   \n",
              "\n",
              "     ... internet romantic  famrel  freetime  goout Dalc Walc health absences  \\\n",
              "0    ...       no       no       4         3      4    1    1      3        4   \n",
              "1    ...      yes       no       5         3      3    1    1      3        2   \n",
              "2    ...      yes       no       4         3      2    2    3      3        6   \n",
              "3    ...      yes      yes       3         2      2    1    1      5        0   \n",
              "4    ...       no       no       4         3      2    1    2      5        0   \n",
              "..   ...      ...      ...     ...       ...    ...  ...  ...    ...      ...   \n",
              "644  ...      yes       no       5         4      2    1    2      5        4   \n",
              "645  ...      yes       no       4         3      4    1    1      1        4   \n",
              "646  ...       no       no       1         1      1    1    1      5        6   \n",
              "647  ...      yes       no       2         4      5    3    4      2        6   \n",
              "648  ...      yes       no       4         4      1    3    4      5        4   \n",
              "\n",
              "     G3  \n",
              "0    11  \n",
              "1    11  \n",
              "2    12  \n",
              "3    14  \n",
              "4    13  \n",
              "..   ..  \n",
              "644  10  \n",
              "645  16  \n",
              "646   9  \n",
              "647  10  \n",
              "648  11  \n",
              "\n",
              "[649 rows x 31 columns]"
            ],
            "text/html": [
              "\n",
              "  <div id=\"df-98085cd6-0836-4955-9394-c63e25b23e31\">\n",
              "    <div class=\"colab-df-container\">\n",
              "      <div>\n",
              "<style scoped>\n",
              "    .dataframe tbody tr th:only-of-type {\n",
              "        vertical-align: middle;\n",
              "    }\n",
              "\n",
              "    .dataframe tbody tr th {\n",
              "        vertical-align: top;\n",
              "    }\n",
              "\n",
              "    .dataframe thead th {\n",
              "        text-align: right;\n",
              "    }\n",
              "</style>\n",
              "<table border=\"1\" class=\"dataframe\">\n",
              "  <thead>\n",
              "    <tr style=\"text-align: right;\">\n",
              "      <th></th>\n",
              "      <th>school</th>\n",
              "      <th>sex</th>\n",
              "      <th>age</th>\n",
              "      <th>address</th>\n",
              "      <th>famsize</th>\n",
              "      <th>Pstatus</th>\n",
              "      <th>Medu</th>\n",
              "      <th>Fedu</th>\n",
              "      <th>Mjob</th>\n",
              "      <th>Fjob</th>\n",
              "      <th>...</th>\n",
              "      <th>internet</th>\n",
              "      <th>romantic</th>\n",
              "      <th>famrel</th>\n",
              "      <th>freetime</th>\n",
              "      <th>goout</th>\n",
              "      <th>Dalc</th>\n",
              "      <th>Walc</th>\n",
              "      <th>health</th>\n",
              "      <th>absences</th>\n",
              "      <th>G3</th>\n",
              "    </tr>\n",
              "  </thead>\n",
              "  <tbody>\n",
              "    <tr>\n",
              "      <th>0</th>\n",
              "      <td>GP</td>\n",
              "      <td>F</td>\n",
              "      <td>18</td>\n",
              "      <td>U</td>\n",
              "      <td>GT3</td>\n",
              "      <td>A</td>\n",
              "      <td>4</td>\n",
              "      <td>4</td>\n",
              "      <td>at_home</td>\n",
              "      <td>teacher</td>\n",
              "      <td>...</td>\n",
              "      <td>no</td>\n",
              "      <td>no</td>\n",
              "      <td>4</td>\n",
              "      <td>3</td>\n",
              "      <td>4</td>\n",
              "      <td>1</td>\n",
              "      <td>1</td>\n",
              "      <td>3</td>\n",
              "      <td>4</td>\n",
              "      <td>11</td>\n",
              "    </tr>\n",
              "    <tr>\n",
              "      <th>1</th>\n",
              "      <td>GP</td>\n",
              "      <td>F</td>\n",
              "      <td>17</td>\n",
              "      <td>U</td>\n",
              "      <td>GT3</td>\n",
              "      <td>T</td>\n",
              "      <td>1</td>\n",
              "      <td>1</td>\n",
              "      <td>at_home</td>\n",
              "      <td>other</td>\n",
              "      <td>...</td>\n",
              "      <td>yes</td>\n",
              "      <td>no</td>\n",
              "      <td>5</td>\n",
              "      <td>3</td>\n",
              "      <td>3</td>\n",
              "      <td>1</td>\n",
              "      <td>1</td>\n",
              "      <td>3</td>\n",
              "      <td>2</td>\n",
              "      <td>11</td>\n",
              "    </tr>\n",
              "    <tr>\n",
              "      <th>2</th>\n",
              "      <td>GP</td>\n",
              "      <td>F</td>\n",
              "      <td>15</td>\n",
              "      <td>U</td>\n",
              "      <td>LE3</td>\n",
              "      <td>T</td>\n",
              "      <td>1</td>\n",
              "      <td>1</td>\n",
              "      <td>at_home</td>\n",
              "      <td>other</td>\n",
              "      <td>...</td>\n",
              "      <td>yes</td>\n",
              "      <td>no</td>\n",
              "      <td>4</td>\n",
              "      <td>3</td>\n",
              "      <td>2</td>\n",
              "      <td>2</td>\n",
              "      <td>3</td>\n",
              "      <td>3</td>\n",
              "      <td>6</td>\n",
              "      <td>12</td>\n",
              "    </tr>\n",
              "    <tr>\n",
              "      <th>3</th>\n",
              "      <td>GP</td>\n",
              "      <td>F</td>\n",
              "      <td>15</td>\n",
              "      <td>U</td>\n",
              "      <td>GT3</td>\n",
              "      <td>T</td>\n",
              "      <td>4</td>\n",
              "      <td>2</td>\n",
              "      <td>health</td>\n",
              "      <td>services</td>\n",
              "      <td>...</td>\n",
              "      <td>yes</td>\n",
              "      <td>yes</td>\n",
              "      <td>3</td>\n",
              "      <td>2</td>\n",
              "      <td>2</td>\n",
              "      <td>1</td>\n",
              "      <td>1</td>\n",
              "      <td>5</td>\n",
              "      <td>0</td>\n",
              "      <td>14</td>\n",
              "    </tr>\n",
              "    <tr>\n",
              "      <th>4</th>\n",
              "      <td>GP</td>\n",
              "      <td>F</td>\n",
              "      <td>16</td>\n",
              "      <td>U</td>\n",
              "      <td>GT3</td>\n",
              "      <td>T</td>\n",
              "      <td>3</td>\n",
              "      <td>3</td>\n",
              "      <td>other</td>\n",
              "      <td>other</td>\n",
              "      <td>...</td>\n",
              "      <td>no</td>\n",
              "      <td>no</td>\n",
              "      <td>4</td>\n",
              "      <td>3</td>\n",
              "      <td>2</td>\n",
              "      <td>1</td>\n",
              "      <td>2</td>\n",
              "      <td>5</td>\n",
              "      <td>0</td>\n",
              "      <td>13</td>\n",
              "    </tr>\n",
              "    <tr>\n",
              "      <th>...</th>\n",
              "      <td>...</td>\n",
              "      <td>...</td>\n",
              "      <td>...</td>\n",
              "      <td>...</td>\n",
              "      <td>...</td>\n",
              "      <td>...</td>\n",
              "      <td>...</td>\n",
              "      <td>...</td>\n",
              "      <td>...</td>\n",
              "      <td>...</td>\n",
              "      <td>...</td>\n",
              "      <td>...</td>\n",
              "      <td>...</td>\n",
              "      <td>...</td>\n",
              "      <td>...</td>\n",
              "      <td>...</td>\n",
              "      <td>...</td>\n",
              "      <td>...</td>\n",
              "      <td>...</td>\n",
              "      <td>...</td>\n",
              "      <td>...</td>\n",
              "    </tr>\n",
              "    <tr>\n",
              "      <th>644</th>\n",
              "      <td>MS</td>\n",
              "      <td>F</td>\n",
              "      <td>19</td>\n",
              "      <td>R</td>\n",
              "      <td>GT3</td>\n",
              "      <td>T</td>\n",
              "      <td>2</td>\n",
              "      <td>3</td>\n",
              "      <td>services</td>\n",
              "      <td>other</td>\n",
              "      <td>...</td>\n",
              "      <td>yes</td>\n",
              "      <td>no</td>\n",
              "      <td>5</td>\n",
              "      <td>4</td>\n",
              "      <td>2</td>\n",
              "      <td>1</td>\n",
              "      <td>2</td>\n",
              "      <td>5</td>\n",
              "      <td>4</td>\n",
              "      <td>10</td>\n",
              "    </tr>\n",
              "    <tr>\n",
              "      <th>645</th>\n",
              "      <td>MS</td>\n",
              "      <td>F</td>\n",
              "      <td>18</td>\n",
              "      <td>U</td>\n",
              "      <td>LE3</td>\n",
              "      <td>T</td>\n",
              "      <td>3</td>\n",
              "      <td>1</td>\n",
              "      <td>teacher</td>\n",
              "      <td>services</td>\n",
              "      <td>...</td>\n",
              "      <td>yes</td>\n",
              "      <td>no</td>\n",
              "      <td>4</td>\n",
              "      <td>3</td>\n",
              "      <td>4</td>\n",
              "      <td>1</td>\n",
              "      <td>1</td>\n",
              "      <td>1</td>\n",
              "      <td>4</td>\n",
              "      <td>16</td>\n",
              "    </tr>\n",
              "    <tr>\n",
              "      <th>646</th>\n",
              "      <td>MS</td>\n",
              "      <td>F</td>\n",
              "      <td>18</td>\n",
              "      <td>U</td>\n",
              "      <td>GT3</td>\n",
              "      <td>T</td>\n",
              "      <td>1</td>\n",
              "      <td>1</td>\n",
              "      <td>other</td>\n",
              "      <td>other</td>\n",
              "      <td>...</td>\n",
              "      <td>no</td>\n",
              "      <td>no</td>\n",
              "      <td>1</td>\n",
              "      <td>1</td>\n",
              "      <td>1</td>\n",
              "      <td>1</td>\n",
              "      <td>1</td>\n",
              "      <td>5</td>\n",
              "      <td>6</td>\n",
              "      <td>9</td>\n",
              "    </tr>\n",
              "    <tr>\n",
              "      <th>647</th>\n",
              "      <td>MS</td>\n",
              "      <td>M</td>\n",
              "      <td>17</td>\n",
              "      <td>U</td>\n",
              "      <td>LE3</td>\n",
              "      <td>T</td>\n",
              "      <td>3</td>\n",
              "      <td>1</td>\n",
              "      <td>services</td>\n",
              "      <td>services</td>\n",
              "      <td>...</td>\n",
              "      <td>yes</td>\n",
              "      <td>no</td>\n",
              "      <td>2</td>\n",
              "      <td>4</td>\n",
              "      <td>5</td>\n",
              "      <td>3</td>\n",
              "      <td>4</td>\n",
              "      <td>2</td>\n",
              "      <td>6</td>\n",
              "      <td>10</td>\n",
              "    </tr>\n",
              "    <tr>\n",
              "      <th>648</th>\n",
              "      <td>MS</td>\n",
              "      <td>M</td>\n",
              "      <td>18</td>\n",
              "      <td>R</td>\n",
              "      <td>LE3</td>\n",
              "      <td>T</td>\n",
              "      <td>3</td>\n",
              "      <td>2</td>\n",
              "      <td>services</td>\n",
              "      <td>other</td>\n",
              "      <td>...</td>\n",
              "      <td>yes</td>\n",
              "      <td>no</td>\n",
              "      <td>4</td>\n",
              "      <td>4</td>\n",
              "      <td>1</td>\n",
              "      <td>3</td>\n",
              "      <td>4</td>\n",
              "      <td>5</td>\n",
              "      <td>4</td>\n",
              "      <td>11</td>\n",
              "    </tr>\n",
              "  </tbody>\n",
              "</table>\n",
              "<p>649 rows × 31 columns</p>\n",
              "</div>\n",
              "      <button class=\"colab-df-convert\" onclick=\"convertToInteractive('df-98085cd6-0836-4955-9394-c63e25b23e31')\"\n",
              "              title=\"Convert this dataframe to an interactive table.\"\n",
              "              style=\"display:none;\">\n",
              "        \n",
              "  <svg xmlns=\"http://www.w3.org/2000/svg\" height=\"24px\"viewBox=\"0 0 24 24\"\n",
              "       width=\"24px\">\n",
              "    <path d=\"M0 0h24v24H0V0z\" fill=\"none\"/>\n",
              "    <path d=\"M18.56 5.44l.94 2.06.94-2.06 2.06-.94-2.06-.94-.94-2.06-.94 2.06-2.06.94zm-11 1L8.5 8.5l.94-2.06 2.06-.94-2.06-.94L8.5 2.5l-.94 2.06-2.06.94zm10 10l.94 2.06.94-2.06 2.06-.94-2.06-.94-.94-2.06-.94 2.06-2.06.94z\"/><path d=\"M17.41 7.96l-1.37-1.37c-.4-.4-.92-.59-1.43-.59-.52 0-1.04.2-1.43.59L10.3 9.45l-7.72 7.72c-.78.78-.78 2.05 0 2.83L4 21.41c.39.39.9.59 1.41.59.51 0 1.02-.2 1.41-.59l7.78-7.78 2.81-2.81c.8-.78.8-2.07 0-2.86zM5.41 20L4 18.59l7.72-7.72 1.47 1.35L5.41 20z\"/>\n",
              "  </svg>\n",
              "      </button>\n",
              "      \n",
              "  <style>\n",
              "    .colab-df-container {\n",
              "      display:flex;\n",
              "      flex-wrap:wrap;\n",
              "      gap: 12px;\n",
              "    }\n",
              "\n",
              "    .colab-df-convert {\n",
              "      background-color: #E8F0FE;\n",
              "      border: none;\n",
              "      border-radius: 50%;\n",
              "      cursor: pointer;\n",
              "      display: none;\n",
              "      fill: #1967D2;\n",
              "      height: 32px;\n",
              "      padding: 0 0 0 0;\n",
              "      width: 32px;\n",
              "    }\n",
              "\n",
              "    .colab-df-convert:hover {\n",
              "      background-color: #E2EBFA;\n",
              "      box-shadow: 0px 1px 2px rgba(60, 64, 67, 0.3), 0px 1px 3px 1px rgba(60, 64, 67, 0.15);\n",
              "      fill: #174EA6;\n",
              "    }\n",
              "\n",
              "    [theme=dark] .colab-df-convert {\n",
              "      background-color: #3B4455;\n",
              "      fill: #D2E3FC;\n",
              "    }\n",
              "\n",
              "    [theme=dark] .colab-df-convert:hover {\n",
              "      background-color: #434B5C;\n",
              "      box-shadow: 0px 1px 3px 1px rgba(0, 0, 0, 0.15);\n",
              "      filter: drop-shadow(0px 1px 2px rgba(0, 0, 0, 0.3));\n",
              "      fill: #FFFFFF;\n",
              "    }\n",
              "  </style>\n",
              "\n",
              "      <script>\n",
              "        const buttonEl =\n",
              "          document.querySelector('#df-98085cd6-0836-4955-9394-c63e25b23e31 button.colab-df-convert');\n",
              "        buttonEl.style.display =\n",
              "          google.colab.kernel.accessAllowed ? 'block' : 'none';\n",
              "\n",
              "        async function convertToInteractive(key) {\n",
              "          const element = document.querySelector('#df-98085cd6-0836-4955-9394-c63e25b23e31');\n",
              "          const dataTable =\n",
              "            await google.colab.kernel.invokeFunction('convertToInteractive',\n",
              "                                                     [key], {});\n",
              "          if (!dataTable) return;\n",
              "\n",
              "          const docLinkHtml = 'Like what you see? Visit the ' +\n",
              "            '<a target=\"_blank\" href=https://colab.research.google.com/notebooks/data_table.ipynb>data table notebook</a>'\n",
              "            + ' to learn more about interactive tables.';\n",
              "          element.innerHTML = '';\n",
              "          dataTable['output_type'] = 'display_data';\n",
              "          await google.colab.output.renderOutput(dataTable, element);\n",
              "          const docLink = document.createElement('div');\n",
              "          docLink.innerHTML = docLinkHtml;\n",
              "          element.appendChild(docLink);\n",
              "        }\n",
              "      </script>\n",
              "    </div>\n",
              "  </div>\n",
              "  "
            ]
          },
          "metadata": {},
          "execution_count": 6
        }
      ],
      "source": [
        "grade_df.drop(columns=['G1','G2'],inplace=True)\n",
        "grade_df"
      ]
    },
    {
      "cell_type": "markdown",
      "id": "ed610566",
      "metadata": {
        "id": "ed610566"
      },
      "source": [
        "### We chose G3 as our response and dropped G1 and G2 since we do not need to use them to predict G3.\n",
        "\n",
        "### Reason: From the scatterplot, we can assume that students usually have roughly the same grade in the first and second periods and the final grade since points are scattered around the line y=x.  "
      ]
    },
    {
      "cell_type": "markdown",
      "id": "dd17d915",
      "metadata": {
        "id": "dd17d915"
      },
      "source": [
        "# Exploratory data analysis (EDA)"
      ]
    },
    {
      "cell_type": "code",
      "execution_count": 7,
      "id": "dc5637a7",
      "metadata": {
        "id": "dc5637a7",
        "colab": {
          "base_uri": "https://localhost:8080/",
          "height": 480
        },
        "outputId": "aa001097-be9b-4be9-e88b-a77779e9d23b"
      },
      "outputs": [
        {
          "output_type": "display_data",
          "data": {
            "text/plain": [
              "<Figure size 640x480 with 1 Axes>"
            ],
            "image/png": "[encoded data removed]"
          },
          "metadata": {}
        }
      ],
      "source": [
        "sb.histplot(grade_df.age, discrete=True)\n",
        "plt.title('Age distribution')\n",
        "plt.show()"
      ]
    },
    {
      "cell_type": "code",
      "execution_count": 8,
      "id": "a2afaeea",
      "metadata": {
        "id": "a2afaeea",
        "colab": {
          "base_uri": "https://localhost:8080/",
          "height": 475
        },
        "outputId": "b1f2ed87-0ca5-47a7-b6b6-ebbbc80884e2"
      },
      "outputs": [
        {
          "output_type": "execute_result",
          "data": {
            "text/plain": [
              "<Axes: xlabel='absences', ylabel='Count'>"
            ]
          },
          "metadata": {},
          "execution_count": 8
        },
        {
          "output_type": "display_data",
          "data": {
            "text/plain": [
              "<Figure size 640x480 with 1 Axes>"
            ],
            "image/png": "[encoded data removed]"
          },
          "metadata": {}
        }
      ],
      "source": [
        "sb.histplot(grade_df.absences,bins=20,discrete=True)"
      ]
    },
    {
      "cell_type": "code",
      "execution_count": 9,
      "id": "f4492e99",
      "metadata": {
        "id": "f4492e99",
        "colab": {
          "base_uri": "https://localhost:8080/",
          "height": 143
        },
        "outputId": "86d39dfd-4d5f-4829-c628-73d23d9ce7ba"
      },
      "outputs": [
        {
          "output_type": "execute_result",
          "data": {
            "text/plain": [
              "               age  absences        G3\n",
              "age       1.000000  0.149998 -0.106505\n",
              "absences  0.149998  1.000000 -0.091379\n",
              "G3       -0.106505 -0.091379  1.000000"
            ],
            "text/html": [
              "\n",
              "  <div id=\"df-54a42d39-644a-4bb9-ace9-f2d5173cf013\">\n",
              "    <div class=\"colab-df-container\">\n",
              "      <div>\n",
              "<style scoped>\n",
              "    .dataframe tbody tr th:only-of-type {\n",
              "        vertical-align: middle;\n",
              "    }\n",
              "\n",
              "    .dataframe tbody tr th {\n",
              "        vertical-align: top;\n",
              "    }\n",
              "\n",
              "    .dataframe thead th {\n",
              "        text-align: right;\n",
              "    }\n",
              "</style>\n",
              "<table border=\"1\" class=\"dataframe\">\n",
              "  <thead>\n",
              "    <tr style=\"text-align: right;\">\n",
              "      <th></th>\n",
              "      <th>age</th>\n",
              "      <th>absences</th>\n",
              "      <th>G3</th>\n",
              "    </tr>\n",
              "  </thead>\n",
              "  <tbody>\n",
              "    <tr>\n",
              "      <th>age</th>\n",
              "      <td>1.000000</td>\n",
              "      <td>0.149998</td>\n",
              "      <td>-0.106505</td>\n",
              "    </tr>\n",
              "    <tr>\n",
              "      <th>absences</th>\n",
              "      <td>0.149998</td>\n",
              "      <td>1.000000</td>\n",
              "      <td>-0.091379</td>\n",
              "    </tr>\n",
              "    <tr>\n",
              "      <th>G3</th>\n",
              "      <td>-0.106505</td>\n",
              "      <td>-0.091379</td>\n",
              "      <td>1.000000</td>\n",
              "    </tr>\n",
              "  </tbody>\n",
              "</table>\n",
              "</div>\n",
              "      <button class=\"colab-df-convert\" onclick=\"convertToInteractive('df-54a42d39-644a-4bb9-ace9-f2d5173cf013')\"\n",
              "              title=\"Convert this dataframe to an interactive table.\"\n",
              "              style=\"display:none;\">\n",
              "        \n",
              "  <svg xmlns=\"http://www.w3.org/2000/svg\" height=\"24px\"viewBox=\"0 0 24 24\"\n",
              "       width=\"24px\">\n",
              "    <path d=\"M0 0h24v24H0V0z\" fill=\"none\"/>\n",
              "    <path d=\"M18.56 5.44l.94 2.06.94-2.06 2.06-.94-2.06-.94-.94-2.06-.94 2.06-2.06.94zm-11 1L8.5 8.5l.94-2.06 2.06-.94-2.06-.94L8.5 2.5l-.94 2.06-2.06.94zm10 10l.94 2.06.94-2.06 2.06-.94-2.06-.94-.94-2.06-.94 2.06-2.06.94z\"/><path d=\"M17.41 7.96l-1.37-1.37c-.4-.4-.92-.59-1.43-.59-.52 0-1.04.2-1.43.59L10.3 9.45l-7.72 7.72c-.78.78-.78 2.05 0 2.83L4 21.41c.39.39.9.59 1.41.59.51 0 1.02-.2 1.41-.59l7.78-7.78 2.81-2.81c.8-.78.8-2.07 0-2.86zM5.41 20L4 18.59l7.72-7.72 1.47 1.35L5.41 20z\"/>\n",
              "  </svg>\n",
              "      </button>\n",
              "      \n",
              "  <style>\n",
              "    .colab-df-container {\n",
              "      display:flex;\n",
              "      flex-wrap:wrap;\n",
              "      gap: 12px;\n",
              "    }\n",
              "\n",
              "    .colab-df-convert {\n",
              "      background-color: #E8F0FE;\n",
              "      border: none;\n",
              "      border-radius: 50%;\n",
              "      cursor: pointer;\n",
              "      display: none;\n",
              "      fill: #1967D2;\n",
              "      height: 32px;\n",
              "      padding: 0 0 0 0;\n",
              "      width: 32px;\n",
              "    }\n",
              "\n",
              "    .colab-df-convert:hover {\n",
              "      background-color: #E2EBFA;\n",
              "      box-shadow: 0px 1px 2px rgba(60, 64, 67, 0.3), 0px 1px 3px 1px rgba(60, 64, 67, 0.15);\n",
              "      fill: #174EA6;\n",
              "    }\n",
              "\n",
              "    [theme=dark] .colab-df-convert {\n",
              "      background-color: #3B4455;\n",
              "      fill: #D2E3FC;\n",
              "    }\n",
              "\n",
              "    [theme=dark] .colab-df-convert:hover {\n",
              "      background-color: #434B5C;\n",
              "      box-shadow: 0px 1px 3px 1px rgba(0, 0, 0, 0.15);\n",
              "      filter: drop-shadow(0px 1px 2px rgba(0, 0, 0, 0.3));\n",
              "      fill: #FFFFFF;\n",
              "    }\n",
              "  </style>\n",
              "\n",
              "      <script>\n",
              "        const buttonEl =\n",
              "          document.querySelector('#df-54a42d39-644a-4bb9-ace9-f2d5173cf013 button.colab-df-convert');\n",
              "        buttonEl.style.display =\n",
              "          google.colab.kernel.accessAllowed ? 'block' : 'none';\n",
              "\n",
              "        async function convertToInteractive(key) {\n",
              "          const element = document.querySelector('#df-54a42d39-644a-4bb9-ace9-f2d5173cf013');\n",
              "          const dataTable =\n",
              "            await google.colab.kernel.invokeFunction('convertToInteractive',\n",
              "                                                     [key], {});\n",
              "          if (!dataTable) return;\n",
              "\n",
              "          const docLinkHtml = 'Like what you see? Visit the ' +\n",
              "            '<a target=\"_blank\" href=https://colab.research.google.com/notebooks/data_table.ipynb>data table notebook</a>'\n",
              "            + ' to learn more about interactive tables.';\n",
              "          element.innerHTML = '';\n",
              "          dataTable['output_type'] = 'display_data';\n",
              "          await google.colab.output.renderOutput(dataTable, element);\n",
              "          const docLink = document.createElement('div');\n",
              "          docLink.innerHTML = docLinkHtml;\n",
              "          element.appendChild(docLink);\n",
              "        }\n",
              "      </script>\n",
              "    </div>\n",
              "  </div>\n",
              "  "
            ]
          },
          "metadata": {},
          "execution_count": 9
        }
      ],
      "source": [
        "numdf=grade_df[['age','absences','G3']]\n",
        "numdf.corr()"
      ]
    },
    {
      "cell_type": "markdown",
      "id": "13969417",
      "metadata": {
        "id": "13969417"
      },
      "source": [
        "### age and absences have low correlation with G3, so we will focus more on categorical variables"
      ]
    },
    {
      "cell_type": "markdown",
      "id": "f5a24188",
      "metadata": {
        "id": "f5a24188"
      },
      "source": [
        "# Data Cleaning "
      ]
    },
    {
      "cell_type": "code",
      "execution_count": 10,
      "id": "10d10f84",
      "metadata": {
        "id": "10d10f84",
        "colab": {
          "base_uri": "https://localhost:8080/",
          "height": 1000
        },
        "outputId": "2ee72b77-b889-4e81-c0c4-91aea685982f"
      },
      "outputs": [
        {
          "output_type": "execute_result",
          "data": {
            "text/plain": [
              "            count unique     top freq       mean       std   min   25%   50%  \\\n",
              "school        649      2      GP  423        NaN       NaN   NaN   NaN   NaN   \n",
              "sex           649      2       F  383        NaN       NaN   NaN   NaN   NaN   \n",
              "age         649.0    NaN     NaN  NaN  16.744222  1.218138  15.0  16.0  17.0   \n",
              "address       649      2       U  452        NaN       NaN   NaN   NaN   NaN   \n",
              "famsize       649      2     GT3  457        NaN       NaN   NaN   NaN   NaN   \n",
              "Pstatus       649      2       T  569        NaN       NaN   NaN   NaN   NaN   \n",
              "Medu        649.0    NaN     NaN  NaN   2.514638  1.134552   0.0   2.0   2.0   \n",
              "Fedu        649.0    NaN     NaN  NaN   2.306626  1.099931   0.0   1.0   2.0   \n",
              "Mjob          649      5   other  258        NaN       NaN   NaN   NaN   NaN   \n",
              "Fjob          649      5   other  367        NaN       NaN   NaN   NaN   NaN   \n",
              "reason        649      4  course  285        NaN       NaN   NaN   NaN   NaN   \n",
              "guardian      649      3  mother  455        NaN       NaN   NaN   NaN   NaN   \n",
              "traveltime  649.0    NaN     NaN  NaN   1.568567   0.74866   1.0   1.0   1.0   \n",
              "studytime   649.0    NaN     NaN  NaN   1.930663   0.82951   1.0   1.0   2.0   \n",
              "failures    649.0    NaN     NaN  NaN    0.22188  0.593235   0.0   0.0   0.0   \n",
              "schoolsup     649      2      no  581        NaN       NaN   NaN   NaN   NaN   \n",
              "famsup        649      2     yes  398        NaN       NaN   NaN   NaN   NaN   \n",
              "paid          649      2      no  610        NaN       NaN   NaN   NaN   NaN   \n",
              "activities    649      2      no  334        NaN       NaN   NaN   NaN   NaN   \n",
              "nursery       649      2     yes  521        NaN       NaN   NaN   NaN   NaN   \n",
              "higher        649      2     yes  580        NaN       NaN   NaN   NaN   NaN   \n",
              "internet      649      2     yes  498        NaN       NaN   NaN   NaN   NaN   \n",
              "romantic      649      2      no  410        NaN       NaN   NaN   NaN   NaN   \n",
              "famrel      649.0    NaN     NaN  NaN   3.930663  0.955717   1.0   4.0   4.0   \n",
              "freetime    649.0    NaN     NaN  NaN   3.180277  1.051093   1.0   3.0   3.0   \n",
              "goout       649.0    NaN     NaN  NaN     3.1849  1.175766   1.0   2.0   3.0   \n",
              "Dalc        649.0    NaN     NaN  NaN   1.502311  0.924834   1.0   1.0   1.0   \n",
              "Walc        649.0    NaN     NaN  NaN   2.280431   1.28438   1.0   1.0   2.0   \n",
              "health      649.0    NaN     NaN  NaN    3.53621  1.446259   1.0   2.0   4.0   \n",
              "absences    649.0    NaN     NaN  NaN   3.659476  4.640759   0.0   0.0   2.0   \n",
              "G3          649.0    NaN     NaN  NaN  11.906009  3.230656   0.0  10.0  12.0   \n",
              "\n",
              "             75%   max  \n",
              "school       NaN   NaN  \n",
              "sex          NaN   NaN  \n",
              "age         18.0  22.0  \n",
              "address      NaN   NaN  \n",
              "famsize      NaN   NaN  \n",
              "Pstatus      NaN   NaN  \n",
              "Medu         4.0   4.0  \n",
              "Fedu         3.0   4.0  \n",
              "Mjob         NaN   NaN  \n",
              "Fjob         NaN   NaN  \n",
              "reason       NaN   NaN  \n",
              "guardian     NaN   NaN  \n",
              "traveltime   2.0   4.0  \n",
              "studytime    2.0   4.0  \n",
              "failures     0.0   3.0  \n",
              "schoolsup    NaN   NaN  \n",
              "famsup       NaN   NaN  \n",
              "paid         NaN   NaN  \n",
              "activities   NaN   NaN  \n",
              "nursery      NaN   NaN  \n",
              "higher       NaN   NaN  \n",
              "internet     NaN   NaN  \n",
              "romantic     NaN   NaN  \n",
              "famrel       5.0   5.0  \n",
              "freetime     4.0   5.0  \n",
              "goout        4.0   5.0  \n",
              "Dalc         2.0   5.0  \n",
              "Walc         3.0   5.0  \n",
              "health       5.0   5.0  \n",
              "absences     6.0  32.0  \n",
              "G3          14.0  19.0  "
            ],
            "text/html": [
              "\n",
              "  <div id=\"df-2d27196f-5b43-47b5-a7f0-12a754fa0c91\">\n",
              "    <div class=\"colab-df-container\">\n",
              "      <div>\n",
              "<style scoped>\n",
              "    .dataframe tbody tr th:only-of-type {\n",
              "        vertical-align: middle;\n",
              "    }\n",
              "\n",
              "    .dataframe tbody tr th {\n",
              "        vertical-align: top;\n",
              "    }\n",
              "\n",
              "    .dataframe thead th {\n",
              "        text-align: right;\n",
              "    }\n",
              "</style>\n",
              "<table border=\"1\" class=\"dataframe\">\n",
              "  <thead>\n",
              "    <tr style=\"text-align: right;\">\n",
              "      <th></th>\n",
              "      <th>count</th>\n",
              "      <th>unique</th>\n",
              "      <th>top</th>\n",
              "      <th>freq</th>\n",
              "      <th>mean</th>\n",
              "      <th>std</th>\n",
              "      <th>min</th>\n",
              "      <th>25%</th>\n",
              "      <th>50%</th>\n",
              "      <th>75%</th>\n",
              "      <th>max</th>\n",
              "    </tr>\n",
              "  </thead>\n",
              "  <tbody>\n",
              "    <tr>\n",
              "      <th>school</th>\n",
              "      <td>649</td>\n",
              "      <td>2</td>\n",
              "      <td>GP</td>\n",
              "      <td>423</td>\n",
              "      <td>NaN</td>\n",
              "      <td>NaN</td>\n",
              "      <td>NaN</td>\n",
              "      <td>NaN</td>\n",
              "      <td>NaN</td>\n",
              "      <td>NaN</td>\n",
              "      <td>NaN</td>\n",
              "    </tr>\n",
              "    <tr>\n",
              "      <th>sex</th>\n",
              "      <td>649</td>\n",
              "      <td>2</td>\n",
              "      <td>F</td>\n",
              "      <td>383</td>\n",
              "      <td>NaN</td>\n",
              "      <td>NaN</td>\n",
              "      <td>NaN</td>\n",
              "      <td>NaN</td>\n",
              "      <td>NaN</td>\n",
              "      <td>NaN</td>\n",
              "      <td>NaN</td>\n",
              "    </tr>\n",
              "    <tr>\n",
              "      <th>age</th>\n",
              "      <td>649.0</td>\n",
              "      <td>NaN</td>\n",
              "      <td>NaN</td>\n",
              "      <td>NaN</td>\n",
              "      <td>16.744222</td>\n",
              "      <td>1.218138</td>\n",
              "      <td>15.0</td>\n",
              "      <td>16.0</td>\n",
              "      <td>17.0</td>\n",
              "      <td>18.0</td>\n",
              "      <td>22.0</td>\n",
              "    </tr>\n",
              "    <tr>\n",
              "      <th>address</th>\n",
              "      <td>649</td>\n",
              "      <td>2</td>\n",
              "      <td>U</td>\n",
              "      <td>452</td>\n",
              "      <td>NaN</td>\n",
              "      <td>NaN</td>\n",
              "      <td>NaN</td>\n",
              "      <td>NaN</td>\n",
              "      <td>NaN</td>\n",
              "      <td>NaN</td>\n",
              "      <td>NaN</td>\n",
              "    </tr>\n",
              "    <tr>\n",
              "      <th>famsize</th>\n",
              "      <td>649</td>\n",
              "      <td>2</td>\n",
              "      <td>GT3</td>\n",
              "      <td>457</td>\n",
              "      <td>NaN</td>\n",
              "      <td>NaN</td>\n",
              "      <td>NaN</td>\n",
              "      <td>NaN</td>\n",
              "      <td>NaN</td>\n",
              "      <td>NaN</td>\n",
              "      <td>NaN</td>\n",
              "    </tr>\n",
              "    <tr>\n",
              "      <th>Pstatus</th>\n",
              "      <td>649</td>\n",
              "      <td>2</td>\n",
              "      <td>T</td>\n",
              "      <td>569</td>\n",
              "      <td>NaN</td>\n",
              "      <td>NaN</td>\n",
              "      <td>NaN</td>\n",
              "      <td>NaN</td>\n",
              "      <td>NaN</td>\n",
              "      <td>NaN</td>\n",
              "      <td>NaN</td>\n",
              "    </tr>\n",
              "    <tr>\n",
              "      <th>Medu</th>\n",
              "      <td>649.0</td>\n",
              "      <td>NaN</td>\n",
              "      <td>NaN</td>\n",
              "      <td>NaN</td>\n",
              "      <td>2.514638</td>\n",
              "      <td>1.134552</td>\n",
              "      <td>0.0</td>\n",
              "      <td>2.0</td>\n",
              "      <td>2.0</td>\n",
              "      <td>4.0</td>\n",
              "      <td>4.0</td>\n",
              "    </tr>\n",
              "    <tr>\n",
              "      <th>Fedu</th>\n",
              "      <td>649.0</td>\n",
              "      <td>NaN</td>\n",
              "      <td>NaN</td>\n",
              "      <td>NaN</td>\n",
              "      <td>2.306626</td>\n",
              "      <td>1.099931</td>\n",
              "      <td>0.0</td>\n",
              "      <td>1.0</td>\n",
              "      <td>2.0</td>\n",
              "      <td>3.0</td>\n",
              "      <td>4.0</td>\n",
              "    </tr>\n",
              "    <tr>\n",
              "      <th>Mjob</th>\n",
              "      <td>649</td>\n",
              "      <td>5</td>\n",
              "      <td>other</td>\n",
              "      <td>258</td>\n",
              "      <td>NaN</td>\n",
              "      <td>NaN</td>\n",
              "      <td>NaN</td>\n",
              "      <td>NaN</td>\n",
              "      <td>NaN</td>\n",
              "      <td>NaN</td>\n",
              "      <td>NaN</td>\n",
              "    </tr>\n",
              "    <tr>\n",
              "      <th>Fjob</th>\n",
              "      <td>649</td>\n",
              "      <td>5</td>\n",
              "      <td>other</td>\n",
              "      <td>367</td>\n",
              "      <td>NaN</td>\n",
              "      <td>NaN</td>\n",
              "      <td>NaN</td>\n",
              "      <td>NaN</td>\n",
              "      <td>NaN</td>\n",
              "      <td>NaN</td>\n",
              "      <td>NaN</td>\n",
              "    </tr>\n",
              "    <tr>\n",
              "      <th>reason</th>\n",
              "      <td>649</td>\n",
              "      <td>4</td>\n",
              "      <td>course</td>\n",
              "      <td>285</td>\n",
              "      <td>NaN</td>\n",
              "      <td>NaN</td>\n",
              "      <td>NaN</td>\n",
              "      <td>NaN</td>\n",
              "      <td>NaN</td>\n",
              "      <td>NaN</td>\n",
              "      <td>NaN</td>\n",
              "    </tr>\n",
              "    <tr>\n",
              "      <th>guardian</th>\n",
              "      <td>649</td>\n",
              "      <td>3</td>\n",
              "      <td>mother</td>\n",
              "      <td>455</td>\n",
              "      <td>NaN</td>\n",
              "      <td>NaN</td>\n",
              "      <td>NaN</td>\n",
              "      <td>NaN</td>\n",
              "      <td>NaN</td>\n",
              "      <td>NaN</td>\n",
              "      <td>NaN</td>\n",
              "    </tr>\n",
              "    <tr>\n",
              "      <th>traveltime</th>\n",
              "      <td>649.0</td>\n",
              "      <td>NaN</td>\n",
              "      <td>NaN</td>\n",
              "      <td>NaN</td>\n",
              "      <td>1.568567</td>\n",
              "      <td>0.74866</td>\n",
              "      <td>1.0</td>\n",
              "      <td>1.0</td>\n",
              "      <td>1.0</td>\n",
              "      <td>2.0</td>\n",
              "      <td>4.0</td>\n",
              "    </tr>\n",
              "    <tr>\n",
              "      <th>studytime</th>\n",
              "      <td>649.0</td>\n",
              "      <td>NaN</td>\n",
              "      <td>NaN</td>\n",
              "      <td>NaN</td>\n",
              "      <td>1.930663</td>\n",
              "      <td>0.82951</td>\n",
              "      <td>1.0</td>\n",
              "      <td>1.0</td>\n",
              "      <td>2.0</td>\n",
              "      <td>2.0</td>\n",
              "      <td>4.0</td>\n",
              "    </tr>\n",
              "    <tr>\n",
              "      <th>failures</th>\n",
              "      <td>649.0</td>\n",
              "      <td>NaN</td>\n",
              "      <td>NaN</td>\n",
              "      <td>NaN</td>\n",
              "      <td>0.22188</td>\n",
              "      <td>0.593235</td>\n",
              "      <td>0.0</td>\n",
              "      <td>0.0</td>\n",
              "      <td>0.0</td>\n",
              "      <td>0.0</td>\n",
              "      <td>3.0</td>\n",
              "    </tr>\n",
              "    <tr>\n",
              "      <th>schoolsup</th>\n",
              "      <td>649</td>\n",
              "      <td>2</td>\n",
              "      <td>no</td>\n",
              "      <td>581</td>\n",
              "      <td>NaN</td>\n",
              "      <td>NaN</td>\n",
              "      <td>NaN</td>\n",
              "      <td>NaN</td>\n",
              "      <td>NaN</td>\n",
              "      <td>NaN</td>\n",
              "      <td>NaN</td>\n",
              "    </tr>\n",
              "    <tr>\n",
              "      <th>famsup</th>\n",
              "      <td>649</td>\n",
              "      <td>2</td>\n",
              "      <td>yes</td>\n",
              "      <td>398</td>\n",
              "      <td>NaN</td>\n",
              "      <td>NaN</td>\n",
              "      <td>NaN</td>\n",
              "      <td>NaN</td>\n",
              "      <td>NaN</td>\n",
              "      <td>NaN</td>\n",
              "      <td>NaN</td>\n",
              "    </tr>\n",
              "    <tr>\n",
              "      <th>paid</th>\n",
              "      <td>649</td>\n",
              "      <td>2</td>\n",
              "      <td>no</td>\n",
              "      <td>610</td>\n",
              "      <td>NaN</td>\n",
              "      <td>NaN</td>\n",
              "      <td>NaN</td>\n",
              "      <td>NaN</td>\n",
              "      <td>NaN</td>\n",
              "      <td>NaN</td>\n",
              "      <td>NaN</td>\n",
              "    </tr>\n",
              "    <tr>\n",
              "      <th>activities</th>\n",
              "      <td>649</td>\n",
              "      <td>2</td>\n",
              "      <td>no</td>\n",
              "      <td>334</td>\n",
              "      <td>NaN</td>\n",
              "      <td>NaN</td>\n",
              "      <td>NaN</td>\n",
              "      <td>NaN</td>\n",
              "      <td>NaN</td>\n",
              "      <td>NaN</td>\n",
              "      <td>NaN</td>\n",
              "    </tr>\n",
              "    <tr>\n",
              "      <th>nursery</th>\n",
              "      <td>649</td>\n",
              "      <td>2</td>\n",
              "      <td>yes</td>\n",
              "      <td>521</td>\n",
              "      <td>NaN</td>\n",
              "      <td>NaN</td>\n",
              "      <td>NaN</td>\n",
              "      <td>NaN</td>\n",
              "      <td>NaN</td>\n",
              "      <td>NaN</td>\n",
              "      <td>NaN</td>\n",
              "    </tr>\n",
              "    <tr>\n",
              "      <th>higher</th>\n",
              "      <td>649</td>\n",
              "      <td>2</td>\n",
              "      <td>yes</td>\n",
              "      <td>580</td>\n",
              "      <td>NaN</td>\n",
              "      <td>NaN</td>\n",
              "      <td>NaN</td>\n",
              "      <td>NaN</td>\n",
              "      <td>NaN</td>\n",
              "      <td>NaN</td>\n",
              "      <td>NaN</td>\n",
              "    </tr>\n",
              "    <tr>\n",
              "      <th>internet</th>\n",
              "      <td>649</td>\n",
              "      <td>2</td>\n",
              "      <td>yes</td>\n",
              "      <td>498</td>\n",
              "      <td>NaN</td>\n",
              "      <td>NaN</td>\n",
              "      <td>NaN</td>\n",
              "      <td>NaN</td>\n",
              "      <td>NaN</td>\n",
              "      <td>NaN</td>\n",
              "      <td>NaN</td>\n",
              "    </tr>\n",
              "    <tr>\n",
              "      <th>romantic</th>\n",
              "      <td>649</td>\n",
              "      <td>2</td>\n",
              "      <td>no</td>\n",
              "      <td>410</td>\n",
              "      <td>NaN</td>\n",
              "      <td>NaN</td>\n",
              "      <td>NaN</td>\n",
              "      <td>NaN</td>\n",
              "      <td>NaN</td>\n",
              "      <td>NaN</td>\n",
              "      <td>NaN</td>\n",
              "    </tr>\n",
              "    <tr>\n",
              "      <th>famrel</th>\n",
              "      <td>649.0</td>\n",
              "      <td>NaN</td>\n",
              "      <td>NaN</td>\n",
              "      <td>NaN</td>\n",
              "      <td>3.930663</td>\n",
              "      <td>0.955717</td>\n",
              "      <td>1.0</td>\n",
              "      <td>4.0</td>\n",
              "      <td>4.0</td>\n",
              "      <td>5.0</td>\n",
              "      <td>5.0</td>\n",
              "    </tr>\n",
              "    <tr>\n",
              "      <th>freetime</th>\n",
              "      <td>649.0</td>\n",
              "      <td>NaN</td>\n",
              "      <td>NaN</td>\n",
              "      <td>NaN</td>\n",
              "      <td>3.180277</td>\n",
              "      <td>1.051093</td>\n",
              "      <td>1.0</td>\n",
              "      <td>3.0</td>\n",
              "      <td>3.0</td>\n",
              "      <td>4.0</td>\n",
              "      <td>5.0</td>\n",
              "    </tr>\n",
              "    <tr>\n",
              "      <th>goout</th>\n",
              "      <td>649.0</td>\n",
              "      <td>NaN</td>\n",
              "      <td>NaN</td>\n",
              "      <td>NaN</td>\n",
              "      <td>3.1849</td>\n",
              "      <td>1.175766</td>\n",
              "      <td>1.0</td>\n",
              "      <td>2.0</td>\n",
              "      <td>3.0</td>\n",
              "      <td>4.0</td>\n",
              "      <td>5.0</td>\n",
              "    </tr>\n",
              "    <tr>\n",
              "      <th>Dalc</th>\n",
              "      <td>649.0</td>\n",
              "      <td>NaN</td>\n",
              "      <td>NaN</td>\n",
              "      <td>NaN</td>\n",
              "      <td>1.502311</td>\n",
              "      <td>0.924834</td>\n",
              "      <td>1.0</td>\n",
              "      <td>1.0</td>\n",
              "      <td>1.0</td>\n",
              "      <td>2.0</td>\n",
              "      <td>5.0</td>\n",
              "    </tr>\n",
              "    <tr>\n",
              "      <th>Walc</th>\n",
              "      <td>649.0</td>\n",
              "      <td>NaN</td>\n",
              "      <td>NaN</td>\n",
              "      <td>NaN</td>\n",
              "      <td>2.280431</td>\n",
              "      <td>1.28438</td>\n",
              "      <td>1.0</td>\n",
              "      <td>1.0</td>\n",
              "      <td>2.0</td>\n",
              "      <td>3.0</td>\n",
              "      <td>5.0</td>\n",
              "    </tr>\n",
              "    <tr>\n",
              "      <th>health</th>\n",
              "      <td>649.0</td>\n",
              "      <td>NaN</td>\n",
              "      <td>NaN</td>\n",
              "      <td>NaN</td>\n",
              "      <td>3.53621</td>\n",
              "      <td>1.446259</td>\n",
              "      <td>1.0</td>\n",
              "      <td>2.0</td>\n",
              "      <td>4.0</td>\n",
              "      <td>5.0</td>\n",
              "      <td>5.0</td>\n",
              "    </tr>\n",
              "    <tr>\n",
              "      <th>absences</th>\n",
              "      <td>649.0</td>\n",
              "      <td>NaN</td>\n",
              "      <td>NaN</td>\n",
              "      <td>NaN</td>\n",
              "      <td>3.659476</td>\n",
              "      <td>4.640759</td>\n",
              "      <td>0.0</td>\n",
              "      <td>0.0</td>\n",
              "      <td>2.0</td>\n",
              "      <td>6.0</td>\n",
              "      <td>32.0</td>\n",
              "    </tr>\n",
              "    <tr>\n",
              "      <th>G3</th>\n",
              "      <td>649.0</td>\n",
              "      <td>NaN</td>\n",
              "      <td>NaN</td>\n",
              "      <td>NaN</td>\n",
              "      <td>11.906009</td>\n",
              "      <td>3.230656</td>\n",
              "      <td>0.0</td>\n",
              "      <td>10.0</td>\n",
              "      <td>12.0</td>\n",
              "      <td>14.0</td>\n",
              "      <td>19.0</td>\n",
              "    </tr>\n",
              "  </tbody>\n",
              "</table>\n",
              "</div>\n",
              "      <button class=\"colab-df-convert\" onclick=\"convertToInteractive('df-2d27196f-5b43-47b5-a7f0-12a754fa0c91')\"\n",
              "              title=\"Convert this dataframe to an interactive table.\"\n",
              "              style=\"display:none;\">\n",
              "        \n",
              "  <svg xmlns=\"http://www.w3.org/2000/svg\" height=\"24px\"viewBox=\"0 0 24 24\"\n",
              "       width=\"24px\">\n",
              "    <path d=\"M0 0h24v24H0V0z\" fill=\"none\"/>\n",
              "    <path d=\"M18.56 5.44l.94 2.06.94-2.06 2.06-.94-2.06-.94-.94-2.06-.94 2.06-2.06.94zm-11 1L8.5 8.5l.94-2.06 2.06-.94-2.06-.94L8.5 2.5l-.94 2.06-2.06.94zm10 10l.94 2.06.94-2.06 2.06-.94-2.06-.94-.94-2.06-.94 2.06-2.06.94z\"/><path d=\"M17.41 7.96l-1.37-1.37c-.4-.4-.92-.59-1.43-.59-.52 0-1.04.2-1.43.59L10.3 9.45l-7.72 7.72c-.78.78-.78 2.05 0 2.83L4 21.41c.39.39.9.59 1.41.59.51 0 1.02-.2 1.41-.59l7.78-7.78 2.81-2.81c.8-.78.8-2.07 0-2.86zM5.41 20L4 18.59l7.72-7.72 1.47 1.35L5.41 20z\"/>\n",
              "  </svg>\n",
              "      </button>\n",
              "      \n",
              "  <style>\n",
              "    .colab-df-container {\n",
              "      display:flex;\n",
              "      flex-wrap:wrap;\n",
              "      gap: 12px;\n",
              "    }\n",
              "\n",
              "    .colab-df-convert {\n",
              "      background-color: #E8F0FE;\n",
              "      border: none;\n",
              "      border-radius: 50%;\n",
              "      cursor: pointer;\n",
              "      display: none;\n",
              "      fill: #1967D2;\n",
              "      height: 32px;\n",
              "      padding: 0 0 0 0;\n",
              "      width: 32px;\n",
              "    }\n",
              "\n",
              "    .colab-df-convert:hover {\n",
              "      background-color: #E2EBFA;\n",
              "      box-shadow: 0px 1px 2px rgba(60, 64, 67, 0.3), 0px 1px 3px 1px rgba(60, 64, 67, 0.15);\n",
              "      fill: #174EA6;\n",
              "    }\n",
              "\n",
              "    [theme=dark] .colab-df-convert {\n",
              "      background-color: #3B4455;\n",
              "      fill: #D2E3FC;\n",
              "    }\n",
              "\n",
              "    [theme=dark] .colab-df-convert:hover {\n",
              "      background-color: #434B5C;\n",
              "      box-shadow: 0px 1px 3px 1px rgba(0, 0, 0, 0.15);\n",
              "      filter: drop-shadow(0px 1px 2px rgba(0, 0, 0, 0.3));\n",
              "      fill: #FFFFFF;\n",
              "    }\n",
              "  </style>\n",
              "\n",
              "      <script>\n",
              "        const buttonEl =\n",
              "          document.querySelector('#df-2d27196f-5b43-47b5-a7f0-12a754fa0c91 button.colab-df-convert');\n",
              "        buttonEl.style.display =\n",
              "          google.colab.kernel.accessAllowed ? 'block' : 'none';\n",
              "\n",
              "        async function convertToInteractive(key) {\n",
              "          const element = document.querySelector('#df-2d27196f-5b43-47b5-a7f0-12a754fa0c91');\n",
              "          const dataTable =\n",
              "            await google.colab.kernel.invokeFunction('convertToInteractive',\n",
              "                                                     [key], {});\n",
              "          if (!dataTable) return;\n",
              "\n",
              "          const docLinkHtml = 'Like what you see? Visit the ' +\n",
              "            '<a target=\"_blank\" href=https://colab.research.google.com/notebooks/data_table.ipynb>data table notebook</a>'\n",
              "            + ' to learn more about interactive tables.';\n",
              "          element.innerHTML = '';\n",
              "          dataTable['output_type'] = 'display_data';\n",
              "          await google.colab.output.renderOutput(dataTable, element);\n",
              "          const docLink = document.createElement('div');\n",
              "          docLink.innerHTML = docLinkHtml;\n",
              "          element.appendChild(docLink);\n",
              "        }\n",
              "      </script>\n",
              "    </div>\n",
              "  </div>\n",
              "  "
            ]
          },
          "metadata": {},
          "execution_count": 10
        }
      ],
      "source": [
        "grade_df.describe(include='all').T"
      ]
    },
    {
      "cell_type": "markdown",
      "id": "fc86a7c4",
      "metadata": {
        "id": "fc86a7c4"
      },
      "source": [
        "### Checking for NULL values and duplicates"
      ]
    },
    {
      "cell_type": "code",
      "execution_count": 11,
      "id": "3079e18e",
      "metadata": {
        "id": "3079e18e",
        "colab": {
          "base_uri": "https://localhost:8080/",
          "height": 1000
        },
        "outputId": "ce66df87-9697-4815-ec9b-9bcc61b2128f"
      },
      "outputs": [
        {
          "output_type": "stream",
          "name": "stdout",
          "text": [
            "<class 'pandas.core.frame.DataFrame'>\n",
            "RangeIndex: 649 entries, 0 to 648\n",
            "Data columns (total 31 columns):\n",
            " #   Column      Non-Null Count  Dtype \n",
            "---  ------      --------------  ----- \n",
            " 0   school      649 non-null    object\n",
            " 1   sex         649 non-null    object\n",
            " 2   age         649 non-null    int64 \n",
            " 3   address     649 non-null    object\n",
            " 4   famsize     649 non-null    object\n",
            " 5   Pstatus     649 non-null    object\n",
            " 6   Medu        649 non-null    int64 \n",
            " 7   Fedu        649 non-null    int64 \n",
            " 8   Mjob        649 non-null    object\n",
            " 9   Fjob        649 non-null    object\n",
            " 10  reason      649 non-null    object\n",
            " 11  guardian    649 non-null    object\n",
            " 12  traveltime  649 non-null    int64 \n",
            " 13  studytime   649 non-null    int64 \n",
            " 14  failures    649 non-null    int64 \n",
            " 15  schoolsup   649 non-null    object\n",
            " 16  famsup      649 non-null    object\n",
            " 17  paid        649 non-null    object\n",
            " 18  activities  649 non-null    object\n",
            " 19  nursery     649 non-null    object\n",
            " 20  higher      649 non-null    object\n",
            " 21  internet    649 non-null    object\n",
            " 22  romantic    649 non-null    object\n",
            " 23  famrel      649 non-null    int64 \n",
            " 24  freetime    649 non-null    int64 \n",
            " 25  goout       649 non-null    int64 \n",
            " 26  Dalc        649 non-null    int64 \n",
            " 27  Walc        649 non-null    int64 \n",
            " 28  health      649 non-null    int64 \n",
            " 29  absences    649 non-null    int64 \n",
            " 30  G3          649 non-null    int64 \n",
            "dtypes: int64(14), object(17)\n",
            "memory usage: 157.3+ KB\n"
          ]
        },
        {
          "output_type": "execute_result",
          "data": {
            "text/plain": [
              "    school sex  age address famsize Pstatus  Medu  Fedu      Mjob      Fjob  \\\n",
              "0       GP   F   18       U     GT3       A     4     4   at_home   teacher   \n",
              "1       GP   F   17       U     GT3       T     1     1   at_home     other   \n",
              "2       GP   F   15       U     LE3       T     1     1   at_home     other   \n",
              "3       GP   F   15       U     GT3       T     4     2    health  services   \n",
              "4       GP   F   16       U     GT3       T     3     3     other     other   \n",
              "..     ...  ..  ...     ...     ...     ...   ...   ...       ...       ...   \n",
              "644     MS   F   19       R     GT3       T     2     3  services     other   \n",
              "645     MS   F   18       U     LE3       T     3     1   teacher  services   \n",
              "646     MS   F   18       U     GT3       T     1     1     other     other   \n",
              "647     MS   M   17       U     LE3       T     3     1  services  services   \n",
              "648     MS   M   18       R     LE3       T     3     2  services     other   \n",
              "\n",
              "     ... internet romantic  famrel  freetime  goout Dalc Walc health absences  \\\n",
              "0    ...       no       no       4         3      4    1    1      3        4   \n",
              "1    ...      yes       no       5         3      3    1    1      3        2   \n",
              "2    ...      yes       no       4         3      2    2    3      3        6   \n",
              "3    ...      yes      yes       3         2      2    1    1      5        0   \n",
              "4    ...       no       no       4         3      2    1    2      5        0   \n",
              "..   ...      ...      ...     ...       ...    ...  ...  ...    ...      ...   \n",
              "644  ...      yes       no       5         4      2    1    2      5        4   \n",
              "645  ...      yes       no       4         3      4    1    1      1        4   \n",
              "646  ...       no       no       1         1      1    1    1      5        6   \n",
              "647  ...      yes       no       2         4      5    3    4      2        6   \n",
              "648  ...      yes       no       4         4      1    3    4      5        4   \n",
              "\n",
              "     G3  \n",
              "0    11  \n",
              "1    11  \n",
              "2    12  \n",
              "3    14  \n",
              "4    13  \n",
              "..   ..  \n",
              "644  10  \n",
              "645  16  \n",
              "646   9  \n",
              "647  10  \n",
              "648  11  \n",
              "\n",
              "[649 rows x 31 columns]"
            ],
            "text/html": [
              "\n",
              "  <div id=\"df-6a60d184-121a-4725-a85a-d8e1f588bef7\">\n",
              "    <div class=\"colab-df-container\">\n",
              "      <div>\n",
              "<style scoped>\n",
              "    .dataframe tbody tr th:only-of-type {\n",
              "        vertical-align: middle;\n",
              "    }\n",
              "\n",
              "    .dataframe tbody tr th {\n",
              "        vertical-align: top;\n",
              "    }\n",
              "\n",
              "    .dataframe thead th {\n",
              "        text-align: right;\n",
              "    }\n",
              "</style>\n",
              "<table border=\"1\" class=\"dataframe\">\n",
              "  <thead>\n",
              "    <tr style=\"text-align: right;\">\n",
              "      <th></th>\n",
              "      <th>school</th>\n",
              "      <th>sex</th>\n",
              "      <th>age</th>\n",
              "      <th>address</th>\n",
              "      <th>famsize</th>\n",
              "      <th>Pstatus</th>\n",
              "      <th>Medu</th>\n",
              "      <th>Fedu</th>\n",
              "      <th>Mjob</th>\n",
              "      <th>Fjob</th>\n",
              "      <th>...</th>\n",
              "      <th>internet</th>\n",
              "      <th>romantic</th>\n",
              "      <th>famrel</th>\n",
              "      <th>freetime</th>\n",
              "      <th>goout</th>\n",
              "      <th>Dalc</th>\n",
              "      <th>Walc</th>\n",
              "      <th>health</th>\n",
              "      <th>absences</th>\n",
              "      <th>G3</th>\n",
              "    </tr>\n",
              "  </thead>\n",
              "  <tbody>\n",
              "    <tr>\n",
              "      <th>0</th>\n",
              "      <td>GP</td>\n",
              "      <td>F</td>\n",
              "      <td>18</td>\n",
              "      <td>U</td>\n",
              "      <td>GT3</td>\n",
              "      <td>A</td>\n",
              "      <td>4</td>\n",
              "      <td>4</td>\n",
              "      <td>at_home</td>\n",
              "      <td>teacher</td>\n",
              "      <td>...</td>\n",
              "      <td>no</td>\n",
              "      <td>no</td>\n",
              "      <td>4</td>\n",
              "      <td>3</td>\n",
              "      <td>4</td>\n",
              "      <td>1</td>\n",
              "      <td>1</td>\n",
              "      <td>3</td>\n",
              "      <td>4</td>\n",
              "      <td>11</td>\n",
              "    </tr>\n",
              "    <tr>\n",
              "      <th>1</th>\n",
              "      <td>GP</td>\n",
              "      <td>F</td>\n",
              "      <td>17</td>\n",
              "      <td>U</td>\n",
              "      <td>GT3</td>\n",
              "      <td>T</td>\n",
              "      <td>1</td>\n",
              "      <td>1</td>\n",
              "      <td>at_home</td>\n",
              "      <td>other</td>\n",
              "      <td>...</td>\n",
              "      <td>yes</td>\n",
              "      <td>no</td>\n",
              "      <td>5</td>\n",
              "      <td>3</td>\n",
              "      <td>3</td>\n",
              "      <td>1</td>\n",
              "      <td>1</td>\n",
              "      <td>3</td>\n",
              "      <td>2</td>\n",
              "      <td>11</td>\n",
              "    </tr>\n",
              "    <tr>\n",
              "      <th>2</th>\n",
              "      <td>GP</td>\n",
              "      <td>F</td>\n",
              "      <td>15</td>\n",
              "      <td>U</td>\n",
              "      <td>LE3</td>\n",
              "      <td>T</td>\n",
              "      <td>1</td>\n",
              "      <td>1</td>\n",
              "      <td>at_home</td>\n",
              "      <td>other</td>\n",
              "      <td>...</td>\n",
              "      <td>yes</td>\n",
              "      <td>no</td>\n",
              "      <td>4</td>\n",
              "      <td>3</td>\n",
              "      <td>2</td>\n",
              "      <td>2</td>\n",
              "      <td>3</td>\n",
              "      <td>3</td>\n",
              "      <td>6</td>\n",
              "      <td>12</td>\n",
              "    </tr>\n",
              "    <tr>\n",
              "      <th>3</th>\n",
              "      <td>GP</td>\n",
              "      <td>F</td>\n",
              "      <td>15</td>\n",
              "      <td>U</td>\n",
              "      <td>GT3</td>\n",
              "      <td>T</td>\n",
              "      <td>4</td>\n",
              "      <td>2</td>\n",
              "      <td>health</td>\n",
              "      <td>services</td>\n",
              "      <td>...</td>\n",
              "      <td>yes</td>\n",
              "      <td>yes</td>\n",
              "      <td>3</td>\n",
              "      <td>2</td>\n",
              "      <td>2</td>\n",
              "      <td>1</td>\n",
              "      <td>1</td>\n",
              "      <td>5</td>\n",
              "      <td>0</td>\n",
              "      <td>14</td>\n",
              "    </tr>\n",
              "    <tr>\n",
              "      <th>4</th>\n",
              "      <td>GP</td>\n",
              "      <td>F</td>\n",
              "      <td>16</td>\n",
              "      <td>U</td>\n",
              "      <td>GT3</td>\n",
              "      <td>T</td>\n",
              "      <td>3</td>\n",
              "      <td>3</td>\n",
              "      <td>other</td>\n",
              "      <td>other</td>\n",
              "      <td>...</td>\n",
              "      <td>no</td>\n",
              "      <td>no</td>\n",
              "      <td>4</td>\n",
              "      <td>3</td>\n",
              "      <td>2</td>\n",
              "      <td>1</td>\n",
              "      <td>2</td>\n",
              "      <td>5</td>\n",
              "      <td>0</td>\n",
              "      <td>13</td>\n",
              "    </tr>\n",
              "    <tr>\n",
              "      <th>...</th>\n",
              "      <td>...</td>\n",
              "      <td>...</td>\n",
              "      <td>...</td>\n",
              "      <td>...</td>\n",
              "      <td>...</td>\n",
              "      <td>...</td>\n",
              "      <td>...</td>\n",
              "      <td>...</td>\n",
              "      <td>...</td>\n",
              "      <td>...</td>\n",
              "      <td>...</td>\n",
              "      <td>...</td>\n",
              "      <td>...</td>\n",
              "      <td>...</td>\n",
              "      <td>...</td>\n",
              "      <td>...</td>\n",
              "      <td>...</td>\n",
              "      <td>...</td>\n",
              "      <td>...</td>\n",
              "      <td>...</td>\n",
              "      <td>...</td>\n",
              "    </tr>\n",
              "    <tr>\n",
              "      <th>644</th>\n",
              "      <td>MS</td>\n",
              "      <td>F</td>\n",
              "      <td>19</td>\n",
              "      <td>R</td>\n",
              "      <td>GT3</td>\n",
              "      <td>T</td>\n",
              "      <td>2</td>\n",
              "      <td>3</td>\n",
              "      <td>services</td>\n",
              "      <td>other</td>\n",
              "      <td>...</td>\n",
              "      <td>yes</td>\n",
              "      <td>no</td>\n",
              "      <td>5</td>\n",
              "      <td>4</td>\n",
              "      <td>2</td>\n",
              "      <td>1</td>\n",
              "      <td>2</td>\n",
              "      <td>5</td>\n",
              "      <td>4</td>\n",
              "      <td>10</td>\n",
              "    </tr>\n",
              "    <tr>\n",
              "      <th>645</th>\n",
              "      <td>MS</td>\n",
              "      <td>F</td>\n",
              "      <td>18</td>\n",
              "      <td>U</td>\n",
              "      <td>LE3</td>\n",
              "      <td>T</td>\n",
              "      <td>3</td>\n",
              "      <td>1</td>\n",
              "      <td>teacher</td>\n",
              "      <td>services</td>\n",
              "      <td>...</td>\n",
              "      <td>yes</td>\n",
              "      <td>no</td>\n",
              "      <td>4</td>\n",
              "      <td>3</td>\n",
              "      <td>4</td>\n",
              "      <td>1</td>\n",
              "      <td>1</td>\n",
              "      <td>1</td>\n",
              "      <td>4</td>\n",
              "      <td>16</td>\n",
              "    </tr>\n",
              "    <tr>\n",
              "      <th>646</th>\n",
              "      <td>MS</td>\n",
              "      <td>F</td>\n",
              "      <td>18</td>\n",
              "      <td>U</td>\n",
              "      <td>GT3</td>\n",
              "      <td>T</td>\n",
              "      <td>1</td>\n",
              "      <td>1</td>\n",
              "      <td>other</td>\n",
              "      <td>other</td>\n",
              "      <td>...</td>\n",
              "      <td>no</td>\n",
              "      <td>no</td>\n",
              "      <td>1</td>\n",
              "      <td>1</td>\n",
              "      <td>1</td>\n",
              "      <td>1</td>\n",
              "      <td>1</td>\n",
              "      <td>5</td>\n",
              "      <td>6</td>\n",
              "      <td>9</td>\n",
              "    </tr>\n",
              "    <tr>\n",
              "      <th>647</th>\n",
              "      <td>MS</td>\n",
              "      <td>M</td>\n",
              "      <td>17</td>\n",
              "      <td>U</td>\n",
              "      <td>LE3</td>\n",
              "      <td>T</td>\n",
              "      <td>3</td>\n",
              "      <td>1</td>\n",
              "      <td>services</td>\n",
              "      <td>services</td>\n",
              "      <td>...</td>\n",
              "      <td>yes</td>\n",
              "      <td>no</td>\n",
              "      <td>2</td>\n",
              "      <td>4</td>\n",
              "      <td>5</td>\n",
              "      <td>3</td>\n",
              "      <td>4</td>\n",
              "      <td>2</td>\n",
              "      <td>6</td>\n",
              "      <td>10</td>\n",
              "    </tr>\n",
              "    <tr>\n",
              "      <th>648</th>\n",
              "      <td>MS</td>\n",
              "      <td>M</td>\n",
              "      <td>18</td>\n",
              "      <td>R</td>\n",
              "      <td>LE3</td>\n",
              "      <td>T</td>\n",
              "      <td>3</td>\n",
              "      <td>2</td>\n",
              "      <td>services</td>\n",
              "      <td>other</td>\n",
              "      <td>...</td>\n",
              "      <td>yes</td>\n",
              "      <td>no</td>\n",
              "      <td>4</td>\n",
              "      <td>4</td>\n",
              "      <td>1</td>\n",
              "      <td>3</td>\n",
              "      <td>4</td>\n",
              "      <td>5</td>\n",
              "      <td>4</td>\n",
              "      <td>11</td>\n",
              "    </tr>\n",
              "  </tbody>\n",
              "</table>\n",
              "<p>649 rows × 31 columns</p>\n",
              "</div>\n",
              "      <button class=\"colab-df-convert\" onclick=\"convertToInteractive('df-6a60d184-121a-4725-a85a-d8e1f588bef7')\"\n",
              "              title=\"Convert this dataframe to an interactive table.\"\n",
              "              style=\"display:none;\">\n",
              "        \n",
              "  <svg xmlns=\"http://www.w3.org/2000/svg\" height=\"24px\"viewBox=\"0 0 24 24\"\n",
              "       width=\"24px\">\n",
              "    <path d=\"M0 0h24v24H0V0z\" fill=\"none\"/>\n",
              "    <path d=\"M18.56 5.44l.94 2.06.94-2.06 2.06-.94-2.06-.94-.94-2.06-.94 2.06-2.06.94zm-11 1L8.5 8.5l.94-2.06 2.06-.94-2.06-.94L8.5 2.5l-.94 2.06-2.06.94zm10 10l.94 2.06.94-2.06 2.06-.94-2.06-.94-.94-2.06-.94 2.06-2.06.94z\"/><path d=\"M17.41 7.96l-1.37-1.37c-.4-.4-.92-.59-1.43-.59-.52 0-1.04.2-1.43.59L10.3 9.45l-7.72 7.72c-.78.78-.78 2.05 0 2.83L4 21.41c.39.39.9.59 1.41.59.51 0 1.02-.2 1.41-.59l7.78-7.78 2.81-2.81c.8-.78.8-2.07 0-2.86zM5.41 20L4 18.59l7.72-7.72 1.47 1.35L5.41 20z\"/>\n",
              "  </svg>\n",
              "      </button>\n",
              "      \n",
              "  <style>\n",
              "    .colab-df-container {\n",
              "      display:flex;\n",
              "      flex-wrap:wrap;\n",
              "      gap: 12px;\n",
              "    }\n",
              "\n",
              "    .colab-df-convert {\n",
              "      background-color: #E8F0FE;\n",
              "      border: none;\n",
              "      border-radius: 50%;\n",
              "      cursor: pointer;\n",
              "      display: none;\n",
              "      fill: #1967D2;\n",
              "      height: 32px;\n",
              "      padding: 0 0 0 0;\n",
              "      width: 32px;\n",
              "    }\n",
              "\n",
              "    .colab-df-convert:hover {\n",
              "      background-color: #E2EBFA;\n",
              "      box-shadow: 0px 1px 2px rgba(60, 64, 67, 0.3), 0px 1px 3px 1px rgba(60, 64, 67, 0.15);\n",
              "      fill: #174EA6;\n",
              "    }\n",
              "\n",
              "    [theme=dark] .colab-df-convert {\n",
              "      background-color: #3B4455;\n",
              "      fill: #D2E3FC;\n",
              "    }\n",
              "\n",
              "    [theme=dark] .colab-df-convert:hover {\n",
              "      background-color: #434B5C;\n",
              "      box-shadow: 0px 1px 3px 1px rgba(0, 0, 0, 0.15);\n",
              "      filter: drop-shadow(0px 1px 2px rgba(0, 0, 0, 0.3));\n",
              "      fill: #FFFFFF;\n",
              "    }\n",
              "  </style>\n",
              "\n",
              "      <script>\n",
              "        const buttonEl =\n",
              "          document.querySelector('#df-6a60d184-121a-4725-a85a-d8e1f588bef7 button.colab-df-convert');\n",
              "        buttonEl.style.display =\n",
              "          google.colab.kernel.accessAllowed ? 'block' : 'none';\n",
              "\n",
              "        async function convertToInteractive(key) {\n",
              "          const element = document.querySelector('#df-6a60d184-121a-4725-a85a-d8e1f588bef7');\n",
              "          const dataTable =\n",
              "            await google.colab.kernel.invokeFunction('convertToInteractive',\n",
              "                                                     [key], {});\n",
              "          if (!dataTable) return;\n",
              "\n",
              "          const docLinkHtml = 'Like what you see? Visit the ' +\n",
              "            '<a target=\"_blank\" href=https://colab.research.google.com/notebooks/data_table.ipynb>data table notebook</a>'\n",
              "            + ' to learn more about interactive tables.';\n",
              "          element.innerHTML = '';\n",
              "          dataTable['output_type'] = 'display_data';\n",
              "          await google.colab.output.renderOutput(dataTable, element);\n",
              "          const docLink = document.createElement('div');\n",
              "          docLink.innerHTML = docLinkHtml;\n",
              "          element.appendChild(docLink);\n",
              "        }\n",
              "      </script>\n",
              "    </div>\n",
              "  </div>\n",
              "  "
            ]
          },
          "metadata": {},
          "execution_count": 11
        }
      ],
      "source": [
        "grade_df.info() ##no null values\n",
        "grade_df.drop_duplicates() ##no duplicates"
      ]
    },
    {
      "cell_type": "markdown",
      "id": "32b907e6",
      "metadata": {
        "id": "32b907e6"
      },
      "source": [
        "### From dataset info, failures, school, sex, address, famsize, Pstatus, Medu, Fedu, studytime, schoolsup, famsup, paid, activities, nursery, higher, internet, romantic, famrel, freetime, goout, Dalc, Walc, and health are supposed to be categorical variables but are represented as numerical/binary variables. \n",
        "\n",
        "### We have decided to use One Hot encoding to encode all categorical variables. "
      ]
    },
    {
      "cell_type": "code",
      "execution_count": 12,
      "id": "b921e6ce",
      "metadata": {
        "id": "b921e6ce",
        "colab": {
          "base_uri": "https://localhost:8080/"
        },
        "outputId": "806d78d1-17e1-4881-bf5c-838b468f61ba"
      },
      "outputs": [
        {
          "output_type": "stream",
          "name": "stdout",
          "text": [
            "<class 'pandas.core.frame.DataFrame'>\n",
            "RangeIndex: 649 entries, 0 to 648\n",
            "Data columns (total 91 columns):\n",
            " #   Column             Non-Null Count  Dtype  \n",
            "---  ------             --------------  -----  \n",
            " 0   failures_0         649 non-null    float64\n",
            " 1   failures_1         649 non-null    float64\n",
            " 2   failures_2         649 non-null    float64\n",
            " 3   failures_3         649 non-null    float64\n",
            " 4   school_GP          649 non-null    float64\n",
            " 5   school_MS          649 non-null    float64\n",
            " 6   sex_F              649 non-null    float64\n",
            " 7   sex_M              649 non-null    float64\n",
            " 8   address_R          649 non-null    float64\n",
            " 9   address_U          649 non-null    float64\n",
            " 10  famsize_GT3        649 non-null    float64\n",
            " 11  famsize_LE3        649 non-null    float64\n",
            " 12  Pstatus_A          649 non-null    float64\n",
            " 13  Pstatus_T          649 non-null    float64\n",
            " 14  Medu_0             649 non-null    float64\n",
            " 15  Medu_1             649 non-null    float64\n",
            " 16  Medu_2             649 non-null    float64\n",
            " 17  Medu_3             649 non-null    float64\n",
            " 18  Medu_4             649 non-null    float64\n",
            " 19  Fedu_0             649 non-null    float64\n",
            " 20  Fedu_1             649 non-null    float64\n",
            " 21  Fedu_2             649 non-null    float64\n",
            " 22  Fedu_3             649 non-null    float64\n",
            " 23  Fedu_4             649 non-null    float64\n",
            " 24  Fjob_at_home       649 non-null    float64\n",
            " 25  Fjob_health        649 non-null    float64\n",
            " 26  Fjob_other         649 non-null    float64\n",
            " 27  Fjob_services      649 non-null    float64\n",
            " 28  Fjob_teacher       649 non-null    float64\n",
            " 29  Mjob_at_home       649 non-null    float64\n",
            " 30  Mjob_health        649 non-null    float64\n",
            " 31  Mjob_other         649 non-null    float64\n",
            " 32  Mjob_services      649 non-null    float64\n",
            " 33  Mjob_teacher       649 non-null    float64\n",
            " 34  reason_course      649 non-null    float64\n",
            " 35  reason_home        649 non-null    float64\n",
            " 36  reason_other       649 non-null    float64\n",
            " 37  reason_reputation  649 non-null    float64\n",
            " 38  guardian_father    649 non-null    float64\n",
            " 39  guardian_mother    649 non-null    float64\n",
            " 40  guardian_other     649 non-null    float64\n",
            " 41  studytime_1        649 non-null    float64\n",
            " 42  studytime_2        649 non-null    float64\n",
            " 43  studytime_3        649 non-null    float64\n",
            " 44  studytime_4        649 non-null    float64\n",
            " 45  schoolsup_no       649 non-null    float64\n",
            " 46  schoolsup_yes      649 non-null    float64\n",
            " 47  famsup_no          649 non-null    float64\n",
            " 48  famsup_yes         649 non-null    float64\n",
            " 49  paid_no            649 non-null    float64\n",
            " 50  paid_yes           649 non-null    float64\n",
            " 51  activities_no      649 non-null    float64\n",
            " 52  activities_yes     649 non-null    float64\n",
            " 53  nursery_no         649 non-null    float64\n",
            " 54  nursery_yes        649 non-null    float64\n",
            " 55  higher_no          649 non-null    float64\n",
            " 56  higher_yes         649 non-null    float64\n",
            " 57  internet_no        649 non-null    float64\n",
            " 58  internet_yes       649 non-null    float64\n",
            " 59  romantic_no        649 non-null    float64\n",
            " 60  romantic_yes       649 non-null    float64\n",
            " 61  famrel_1           649 non-null    float64\n",
            " 62  famrel_2           649 non-null    float64\n",
            " 63  famrel_3           649 non-null    float64\n",
            " 64  famrel_4           649 non-null    float64\n",
            " 65  famrel_5           649 non-null    float64\n",
            " 66  freetime_1         649 non-null    float64\n",
            " 67  freetime_2         649 non-null    float64\n",
            " 68  freetime_3         649 non-null    float64\n",
            " 69  freetime_4         649 non-null    float64\n",
            " 70  freetime_5         649 non-null    float64\n",
            " 71  goout_1            649 non-null    float64\n",
            " 72  goout_2            649 non-null    float64\n",
            " 73  goout_3            649 non-null    float64\n",
            " 74  goout_4            649 non-null    float64\n",
            " 75  goout_5            649 non-null    float64\n",
            " 76  Dalc_1             649 non-null    float64\n",
            " 77  Dalc_2             649 non-null    float64\n",
            " 78  Dalc_3             649 non-null    float64\n",
            " 79  Dalc_4             649 non-null    float64\n",
            " 80  Dalc_5             649 non-null    float64\n",
            " 81  Walc_1             649 non-null    float64\n",
            " 82  Walc_2             649 non-null    float64\n",
            " 83  Walc_3             649 non-null    float64\n",
            " 84  Walc_4             649 non-null    float64\n",
            " 85  Walc_5             649 non-null    float64\n",
            " 86  health_1           649 non-null    float64\n",
            " 87  health_2           649 non-null    float64\n",
            " 88  health_3           649 non-null    float64\n",
            " 89  health_4           649 non-null    float64\n",
            " 90  health_5           649 non-null    float64\n",
            "dtypes: float64(91)\n",
            "memory usage: 461.5 KB\n"
          ]
        }
      ],
      "source": [
        "# Import the encoder from sklearn\n",
        "from sklearn.preprocessing import OneHotEncoder\n",
        "ohe = OneHotEncoder()\n",
        "\n",
        "# OneHotEncoding of categorical predictors (not the response)\n",
        "grade_cat = grade_df[['failures','school','sex','address','famsize','Pstatus','Medu','Fedu','Fjob','Mjob','reason','guardian','studytime','schoolsup','famsup','paid','activities','nursery','higher','internet','romantic','famrel','freetime','goout','Dalc','Walc','health']]\n",
        "ohe.fit(grade_cat)\n",
        "grade_cat_ohe = pd.DataFrame(ohe.transform(grade_cat).toarray(), \n",
        "                                  columns=ohe.get_feature_names_out(grade_cat.columns)) #change ohe.get_feature_names_out to ohe.get_feature_names if not working\n",
        "\n",
        "# Check the encoded variables\n",
        "grade_cat_ohe.info()"
      ]
    },
    {
      "cell_type": "code",
      "execution_count": 13,
      "id": "a9becd5b",
      "metadata": {
        "id": "a9becd5b",
        "colab": {
          "base_uri": "https://localhost:8080/"
        },
        "outputId": "55d3120c-7643-4398-e0d5-d6b9a333f6be"
      },
      "outputs": [
        {
          "output_type": "stream",
          "name": "stdout",
          "text": [
            "<class 'pandas.core.frame.DataFrame'>\n",
            "RangeIndex: 649 entries, 0 to 648\n",
            "Data columns (total 92 columns):\n",
            " #   Column             Non-Null Count  Dtype  \n",
            "---  ------             --------------  -----  \n",
            " 0   failures_0         649 non-null    float64\n",
            " 1   failures_1         649 non-null    float64\n",
            " 2   failures_2         649 non-null    float64\n",
            " 3   failures_3         649 non-null    float64\n",
            " 4   school_GP          649 non-null    float64\n",
            " 5   school_MS          649 non-null    float64\n",
            " 6   sex_F              649 non-null    float64\n",
            " 7   sex_M              649 non-null    float64\n",
            " 8   address_R          649 non-null    float64\n",
            " 9   address_U          649 non-null    float64\n",
            " 10  famsize_GT3        649 non-null    float64\n",
            " 11  famsize_LE3        649 non-null    float64\n",
            " 12  Pstatus_A          649 non-null    float64\n",
            " 13  Pstatus_T          649 non-null    float64\n",
            " 14  Medu_0             649 non-null    float64\n",
            " 15  Medu_1             649 non-null    float64\n",
            " 16  Medu_2             649 non-null    float64\n",
            " 17  Medu_3             649 non-null    float64\n",
            " 18  Medu_4             649 non-null    float64\n",
            " 19  Fedu_0             649 non-null    float64\n",
            " 20  Fedu_1             649 non-null    float64\n",
            " 21  Fedu_2             649 non-null    float64\n",
            " 22  Fedu_3             649 non-null    float64\n",
            " 23  Fedu_4             649 non-null    float64\n",
            " 24  Fjob_at_home       649 non-null    float64\n",
            " 25  Fjob_health        649 non-null    float64\n",
            " 26  Fjob_other         649 non-null    float64\n",
            " 27  Fjob_services      649 non-null    float64\n",
            " 28  Fjob_teacher       649 non-null    float64\n",
            " 29  Mjob_at_home       649 non-null    float64\n",
            " 30  Mjob_health        649 non-null    float64\n",
            " 31  Mjob_other         649 non-null    float64\n",
            " 32  Mjob_services      649 non-null    float64\n",
            " 33  Mjob_teacher       649 non-null    float64\n",
            " 34  reason_course      649 non-null    float64\n",
            " 35  reason_home        649 non-null    float64\n",
            " 36  reason_other       649 non-null    float64\n",
            " 37  reason_reputation  649 non-null    float64\n",
            " 38  guardian_father    649 non-null    float64\n",
            " 39  guardian_mother    649 non-null    float64\n",
            " 40  guardian_other     649 non-null    float64\n",
            " 41  studytime_1        649 non-null    float64\n",
            " 42  studytime_2        649 non-null    float64\n",
            " 43  studytime_3        649 non-null    float64\n",
            " 44  studytime_4        649 non-null    float64\n",
            " 45  schoolsup_no       649 non-null    float64\n",
            " 46  schoolsup_yes      649 non-null    float64\n",
            " 47  famsup_no          649 non-null    float64\n",
            " 48  famsup_yes         649 non-null    float64\n",
            " 49  paid_no            649 non-null    float64\n",
            " 50  paid_yes           649 non-null    float64\n",
            " 51  activities_no      649 non-null    float64\n",
            " 52  activities_yes     649 non-null    float64\n",
            " 53  nursery_no         649 non-null    float64\n",
            " 54  nursery_yes        649 non-null    float64\n",
            " 55  higher_no          649 non-null    float64\n",
            " 56  higher_yes         649 non-null    float64\n",
            " 57  internet_no        649 non-null    float64\n",
            " 58  internet_yes       649 non-null    float64\n",
            " 59  romantic_no        649 non-null    float64\n",
            " 60  romantic_yes       649 non-null    float64\n",
            " 61  famrel_1           649 non-null    float64\n",
            " 62  famrel_2           649 non-null    float64\n",
            " 63  famrel_3           649 non-null    float64\n",
            " 64  famrel_4           649 non-null    float64\n",
            " 65  famrel_5           649 non-null    float64\n",
            " 66  freetime_1         649 non-null    float64\n",
            " 67  freetime_2         649 non-null    float64\n",
            " 68  freetime_3         649 non-null    float64\n",
            " 69  freetime_4         649 non-null    float64\n",
            " 70  freetime_5         649 non-null    float64\n",
            " 71  goout_1            649 non-null    float64\n",
            " 72  goout_2            649 non-null    float64\n",
            " 73  goout_3            649 non-null    float64\n",
            " 74  goout_4            649 non-null    float64\n",
            " 75  goout_5            649 non-null    float64\n",
            " 76  Dalc_1             649 non-null    float64\n",
            " 77  Dalc_2             649 non-null    float64\n",
            " 78  Dalc_3             649 non-null    float64\n",
            " 79  Dalc_4             649 non-null    float64\n",
            " 80  Dalc_5             649 non-null    float64\n",
            " 81  Walc_1             649 non-null    float64\n",
            " 82  Walc_2             649 non-null    float64\n",
            " 83  Walc_3             649 non-null    float64\n",
            " 84  Walc_4             649 non-null    float64\n",
            " 85  Walc_5             649 non-null    float64\n",
            " 86  health_1           649 non-null    float64\n",
            " 87  health_2           649 non-null    float64\n",
            " 88  health_3           649 non-null    float64\n",
            " 89  health_4           649 non-null    float64\n",
            " 90  health_5           649 non-null    float64\n",
            " 91  G3                 649 non-null    int64  \n",
            "dtypes: float64(91), int64(1)\n",
            "memory usage: 466.6 KB\n"
          ]
        }
      ],
      "source": [
        "#combining numeric fratures with OHE categorical feature\n",
        "#grade_num=grade_df[['age','absences']]\n",
        "grade_res=grade_df['G3']\n",
        "grade_ohe=pd.concat([grade_cat_ohe,grade_res],\n",
        "                   sort=False,axis=1).reindex(index=grade_res.index)\n",
        "\n",
        "grade_ohe.info()"
      ]
    },
    {
      "cell_type": "markdown",
      "id": "c9e1aaf4",
      "metadata": {
        "id": "c9e1aaf4"
      },
      "source": [
        "# Identifying top features affecting G3. (Feature importance/Feature selection)"
      ]
    },
    {
      "cell_type": "code",
      "execution_count": 14,
      "id": "f26ceb4e",
      "metadata": {
        "id": "f26ceb4e",
        "colab": {
          "base_uri": "https://localhost:8080/",
          "height": 694
        },
        "outputId": "74fa5c7d-67a0-4c46-8cf3-874b210a6ed7"
      },
      "outputs": [
        {
          "output_type": "stream",
          "name": "stdout",
          "text": [
            "[0.01326815 0.00715212 0.00234685 0.00219558 0.0109893  0.00999903\n",
            " 0.01516666 0.01539444 0.0133167  0.01263565 0.01378519 0.01426468\n",
            " 0.00862882 0.00829258 0.0008286  0.01076626 0.01434256 0.01361054\n",
            " 0.01279415 0.00139707 0.01342035 0.01623754 0.01268507 0.01133643\n",
            " 0.00611273 0.00383012 0.01760507 0.01554728 0.00518086 0.01123907\n",
            " 0.00706834 0.01588425 0.0118881  0.00754846 0.01670542 0.0141152\n",
            " 0.00902469 0.01355847 0.0140245  0.01522075 0.00417118 0.0141659\n",
            " 0.01600657 0.01104964 0.0061455  0.00724991 0.0067857  0.01615892\n",
            " 0.0163384  0.00501112 0.00564684 0.01453119 0.0144582  0.01188876\n",
            " 0.01192111 0.00672818 0.00588807 0.01161143 0.01250738 0.01597811\n",
            " 0.01477294 0.00354409 0.00368013 0.01113808 0.01872499 0.01596528\n",
            " 0.0066597  0.01289614 0.01732867 0.01670332 0.00959911 0.00710447\n",
            " 0.01562884 0.01636201 0.01533107 0.01351511 0.01257765 0.01070402\n",
            " 0.00461723 0.00311981 0.00326948 0.01724943 0.01517294 0.01394489\n",
            " 0.00912797 0.00539638 0.01216443 0.01191315 0.01391782 0.01422111]\n"
          ]
        },
        {
          "output_type": "display_data",
          "data": {
            "text/plain": [
              "<Figure size 640x480 with 1 Axes>"
            ],
            "image/png": "[encoded data removed]"
          },
          "metadata": {}
        }
      ],
      "source": [
        "\n",
        "X = grade_ohe.iloc[:,0:90]  #independent columns\n",
        "y = grade_ohe.iloc[:,-1]    #target column i.e price range\n",
        "from sklearn.ensemble import ExtraTreesClassifier\n",
        "\n",
        "model = ExtraTreesClassifier()\n",
        "model.fit(X,y)\n",
        "\n",
        "print(model.feature_importances_) #use inbuilt class feature_importances of tree based classifiers\n",
        "#plot graph of feature importances for better visualization\n",
        "feat_importances = pd.Series(model.feature_importances_, index=X.columns)\n",
        "feat_importances.nlargest(10).plot(kind='barh')\n",
        "plt.show()"
      ]
    },
    {
      "cell_type": "markdown",
      "id": "468d0543",
      "metadata": {
        "id": "468d0543"
      },
      "source": [
        "### From the Extra Trees Classifier algorithm, the top features are reason, famsup, famrel, Fjob, and freetime,Mjob.\n",
        "\n",
        "Extra Trees Classifier constructs multiple decision tree, and the top feature selection is selected based on number of times a particular feature appears in the decision tress. \n",
        "\n",
        "### Since Extra Trees Classifier does not consider the correlation between the response and predictor. As a result, it is likely that some selected features have a high/low correlation with the response variable, which can affect the performance of the model."
      ]
    },
    {
      "cell_type": "code",
      "execution_count": 15,
      "id": "76cf1e79",
      "metadata": {
        "id": "76cf1e79",
        "colab": {
          "base_uri": "https://localhost:8080/",
          "height": 617
        },
        "outputId": "dd830316-43a7-440f-9712-620e2403dfb3"
      },
      "outputs": [
        {
          "output_type": "execute_result",
          "data": {
            "text/plain": [
              "<seaborn.axisgrid.FacetGrid at 0x7fd321b9e130>"
            ]
          },
          "metadata": {},
          "execution_count": 15
        },
        {
          "output_type": "display_data",
          "data": {
            "text/plain": [
              "<Figure size 681.5x600 with 1 Axes>"
            ],
            "image/png": "[encoded data removed]"
          },
          "metadata": {}
        }
      ],
      "source": [
        "g = sb.catplot(\n",
        "    data=grade_df, kind=\"bar\",\n",
        "    x=\"Fjob\", y=\"G3\", hue=\"famsup\",\n",
        "     palette=\"dark\", alpha=.6, height=6\n",
        ")\n",
        "g.despine(left=True)\n",
        "g.set_axis_labels(\"famrel\", \"G3\")\n",
        "#g.set_title(\"Fjob vs G3\")"
      ]
    },
    {
      "cell_type": "code",
      "execution_count": 16,
      "id": "6a04b21f",
      "metadata": {
        "id": "6a04b21f",
        "colab": {
          "base_uri": "https://localhost:8080/",
          "height": 617
        },
        "outputId": "531945af-f033-48d7-b883-fefa34aeb27f"
      },
      "outputs": [
        {
          "output_type": "execute_result",
          "data": {
            "text/plain": [
              "<seaborn.axisgrid.FacetGrid at 0x7fd321cbd070>"
            ]
          },
          "metadata": {},
          "execution_count": 16
        },
        {
          "output_type": "display_data",
          "data": {
            "text/plain": [
              "<Figure size 665.847x600 with 1 Axes>"
            ],
            "image/png": "[encoded data removed]"
          },
          "metadata": {}
        }
      ],
      "source": [
        "g = sb.catplot(\n",
        "    data=grade_df, kind=\"bar\",\n",
        "    x=\"Fjob\", y=\"G3\", hue=\"famrel\",\n",
        "     palette=\"dark\", alpha=.6, height=6\n",
        ")\n",
        "g.despine(left=True)\n",
        "g.set_axis_labels(\"famrel\", \"G3\")\n",
        "#g.set_title(\"Fjob vs G3\")"
      ]
    },
    {
      "cell_type": "markdown",
      "id": "9d4c5333",
      "metadata": {
        "id": "9d4c5333"
      },
      "source": [
        "### It is interesting to see that students whose fathers are teachers perform better despite the lack of family support and bad family relations"
      ]
    },
    {
      "cell_type": "code",
      "execution_count": 17,
      "id": "191e3e4b",
      "metadata": {
        "id": "191e3e4b",
        "colab": {
          "base_uri": "https://localhost:8080/",
          "height": 617
        },
        "outputId": "cdb8f160-7321-43b6-fc5b-b4daa1c9177b"
      },
      "outputs": [
        {
          "output_type": "execute_result",
          "data": {
            "text/plain": [
              "<seaborn.axisgrid.FacetGrid at 0x7fd31d57c460>"
            ]
          },
          "metadata": {},
          "execution_count": 17
        },
        {
          "output_type": "display_data",
          "data": {
            "text/plain": [
              "<Figure size 734.5x600 with 1 Axes>"
            ],
            "image/png": "[encoded data removed]"
          },
          "metadata": {}
        }
      ],
      "source": [
        "g = sb.catplot(\n",
        "    data=grade_df, kind=\"bar\",\n",
        "    x=\"Walc\", y=\"G3\", hue=\"reason\",\n",
        "     palette=\"dark\", alpha=.6, height=6\n",
        ")\n",
        "g.despine(left=True)\n",
        "g.set_axis_labels(\"Walc\", \"G3\")\n",
        "#g.set_title(\"Fjob vs G3\")"
      ]
    },
    {
      "cell_type": "markdown",
      "id": "54d142e9",
      "metadata": {
        "id": "54d142e9"
      },
      "source": [
        "### There is a downward trend in the students' grades as weekend alcohol consumption increases but students' who chose t school for its reputation consistently perform better than those who chose the school for any other reasons"
      ]
    },
    {
      "cell_type": "code",
      "execution_count": 18,
      "id": "e754fd6b",
      "metadata": {
        "id": "e754fd6b",
        "colab": {
          "base_uri": "https://localhost:8080/",
          "height": 509
        },
        "outputId": "a7291cae-fd83-4be2-a294-11bd21b271af"
      },
      "outputs": [
        {
          "output_type": "display_data",
          "data": {
            "text/plain": [
              "<Figure size 640x480 with 1 Axes>"
            ],
            "image/png": "[encoded data removed]"
          },
          "metadata": {}
        }
      ],
      "source": [
        "#f,axes = plt.subplots(5,1,figsize=(20,24))\n",
        "count = 0\n",
        "top5df=grade_df[['freetime','famrel','Fjob','reason','famsup','Mjob','G3']]\n",
        "for var in top5df:\n",
        "    if var!='G3':\n",
        "        top5df.groupby(var)['G3'].mean().plot(kind='bar')\n",
        "        #sb.barplot(x=var,y='G3',data=top5df,ax=axes[count])\n",
        "        count+=1"
      ]
    },
    {
      "cell_type": "markdown",
      "id": "9725e7e5",
      "metadata": {
        "id": "9725e7e5"
      },
      "source": [
        "# TODO: EDA for each of the top 6"
      ]
    },
    {
      "cell_type": "markdown",
      "source": [
        "## Freetime"
      ],
      "metadata": {
        "id": "PUkUVHsadOsl"
      },
      "id": "PUkUVHsadOsl"
    },
    {
      "cell_type": "code",
      "source": [
        "freetime = pd.DataFrame(grade_df['freetime'])\n",
        "f = plt.figure(figsize=(8, 8))\n",
        "sb.histplot(data = freetime, kde = False, discrete = True)"
      ],
      "metadata": {
        "colab": {
          "base_uri": "https://localhost:8080/",
          "height": 698
        },
        "id": "GV3d5Nq6dRJD",
        "outputId": "1e6c5d34-3d3e-4d10-ca71-247a47770a34"
      },
      "id": "GV3d5Nq6dRJD",
      "execution_count": 19,
      "outputs": [
        {
          "output_type": "execute_result",
          "data": {
            "text/plain": [
              "<Axes: ylabel='Count'>"
            ]
          },
          "metadata": {},
          "execution_count": 19
        },
        {
          "output_type": "display_data",
          "data": {
            "text/plain": [
              "<Figure size 800x800 with 1 Axes>"
            ],
            "image/png": "[encoded data removed]"
          },
          "metadata": {}
        }
      ]
    },
    {
      "cell_type": "markdown",
      "source": [
        "Majority of students rate their freetime as 3 or more"
      ],
      "metadata": {
        "id": "1fz11rBWeyul"
      },
      "id": "1fz11rBWeyul"
    },
    {
      "cell_type": "code",
      "source": [
        "sb.barplot(x='freetime',y='G3',data=grade_df)"
      ],
      "metadata": {
        "colab": {
          "base_uri": "https://localhost:8080/",
          "height": 481
        },
        "id": "LHbVxZhKeksN",
        "outputId": "5ef48bcf-0ac8-495f-cc3d-98b835a61c4a"
      },
      "id": "LHbVxZhKeksN",
      "execution_count": 20,
      "outputs": [
        {
          "output_type": "execute_result",
          "data": {
            "text/plain": [
              "<Axes: xlabel='freetime', ylabel='G3'>"
            ]
          },
          "metadata": {},
          "execution_count": 20
        },
        {
          "output_type": "display_data",
          "data": {
            "text/plain": [
              "<Figure size 640x480 with 1 Axes>"
            ],
            "image/png": "[encoded data removed]"
          },
          "metadata": {}
        }
      ]
    },
    {
      "cell_type": "code",
      "source": [
        "f = plt.figure(figsize=(8, 10))\n",
        "sb.boxplot(x='freetime',y='G3',data=grade_df)"
      ],
      "metadata": {
        "colab": {
          "base_uri": "https://localhost:8080/",
          "height": 875
        },
        "id": "GBnIiAVae7A5",
        "outputId": "c4af212b-1bf3-4a30-bec1-9a82d9822a1d"
      },
      "id": "GBnIiAVae7A5",
      "execution_count": 21,
      "outputs": [
        {
          "output_type": "execute_result",
          "data": {
            "text/plain": [
              "<Axes: xlabel='freetime', ylabel='G3'>"
            ]
          },
          "metadata": {},
          "execution_count": 21
        },
        {
          "output_type": "display_data",
          "data": {
            "text/plain": [
              "<Figure size 800x1000 with 1 Axes>"
            ],
            "image/png": "[encoded data removed]"
          },
          "metadata": {}
        }
      ]
    },
    {
      "cell_type": "markdown",
      "source": [
        " There seems to be a negative relationship between freetime and G3. Median decreases from freetime=2 to freetime=5.\n",
        " \n",
        " Reason: Students who spend more time studying would indicate that they have less freetime and so score higher. \n",
        " \n",
        " freetime = 1 is an outlier since it does not follow the downward trend.\n",
        " \n",
        " Possible reason: A lot of responsibilities other than studying which compromises their grades."
      ],
      "metadata": {
        "id": "Er4pdhtefZTX"
      },
      "id": "Er4pdhtefZTX"
    },
    {
      "cell_type": "markdown",
      "source": [
        "## famrel"
      ],
      "metadata": {
        "id": "WkaWXfQrfkF7"
      },
      "id": "WkaWXfQrfkF7"
    },
    {
      "cell_type": "code",
      "source": [
        "famrel = pd.DataFrame(grade_df['famrel'])\n",
        "f = plt.figure(figsize=(8, 8))\n",
        "sb.histplot(data = famrel, kde = False, discrete = True)"
      ],
      "metadata": {
        "colab": {
          "base_uri": "https://localhost:8080/",
          "height": 698
        },
        "id": "79CVXTVZfXvu",
        "outputId": "b73de475-6940-45a1-a767-f490223f68ef"
      },
      "id": "79CVXTVZfXvu",
      "execution_count": 22,
      "outputs": [
        {
          "output_type": "execute_result",
          "data": {
            "text/plain": [
              "<Axes: ylabel='Count'>"
            ]
          },
          "metadata": {},
          "execution_count": 22
        },
        {
          "output_type": "display_data",
          "data": {
            "text/plain": [
              "<Figure size 800x800 with 1 Axes>"
            ],
            "image/png": "[encoded data removed]"
          },
          "metadata": {}
        }
      ]
    },
    {
      "cell_type": "markdown",
      "source": [
        "Very few students rate their famrel as 1 or 2."
      ],
      "metadata": {
        "id": "GaGwpseEfs0u"
      },
      "id": "GaGwpseEfs0u"
    },
    {
      "cell_type": "code",
      "source": [
        "sb.barplot(x='famrel',y='G3',data=grade_df)"
      ],
      "metadata": {
        "colab": {
          "base_uri": "https://localhost:8080/",
          "height": 475
        },
        "id": "B88s0Pa_fop7",
        "outputId": "84a8a187-6058-4bf3-cc39-124945eaf06f"
      },
      "id": "B88s0Pa_fop7",
      "execution_count": 23,
      "outputs": [
        {
          "output_type": "execute_result",
          "data": {
            "text/plain": [
              "<Axes: xlabel='famrel', ylabel='G3'>"
            ]
          },
          "metadata": {},
          "execution_count": 23
        },
        {
          "output_type": "display_data",
          "data": {
            "text/plain": [
              "<Figure size 640x480 with 1 Axes>"
            ],
            "image/png": "[encoded data removed]"
          },
          "metadata": {}
        }
      ]
    },
    {
      "cell_type": "code",
      "source": [
        "f = plt.figure(figsize=(8, 10))\n",
        "sb.boxplot(x='famrel',y='G3',data=grade_df)"
      ],
      "metadata": {
        "colab": {
          "base_uri": "https://localhost:8080/",
          "height": 875
        },
        "id": "hpk4BPgrfr5m",
        "outputId": "930ec759-2b7e-4650-8346-4e24c99b1a78"
      },
      "id": "hpk4BPgrfr5m",
      "execution_count": 24,
      "outputs": [
        {
          "output_type": "execute_result",
          "data": {
            "text/plain": [
              "<Axes: xlabel='famrel', ylabel='G3'>"
            ]
          },
          "metadata": {},
          "execution_count": 24
        },
        {
          "output_type": "display_data",
          "data": {
            "text/plain": [
              "<Figure size 800x1000 with 1 Axes>"
            ],
            "image/png": "[encoded data removed]"
          },
          "metadata": {}
        }
      ]
    },
    {
      "cell_type": "markdown",
      "source": [
        "As famrel increases from 1 to 5, G3 median increases. "
      ],
      "metadata": {
        "id": "VwsCNIJjf1fN"
      },
      "id": "VwsCNIJjf1fN"
    },
    {
      "cell_type": "markdown",
      "source": [
        "## famsup\n"
      ],
      "metadata": {
        "id": "QM4Nvi18mOLe"
      },
      "id": "QM4Nvi18mOLe"
    },
    {
      "cell_type": "code",
      "source": [
        "freetime = pd.DataFrame(grade_df['famsup'])\n",
        "f = plt.figure(figsize=(8, 8))\n",
        "sb.histplot(data = grade_df['famsup'], kde = False, discrete = True)"
      ],
      "metadata": {
        "colab": {
          "base_uri": "https://localhost:8080/",
          "height": 721
        },
        "id": "OrTnTL1RmeLT",
        "outputId": "9ffa17ed-df3a-40a8-d563-5eed82a9d0fc"
      },
      "id": "OrTnTL1RmeLT",
      "execution_count": 28,
      "outputs": [
        {
          "output_type": "execute_result",
          "data": {
            "text/plain": [
              "<Axes: xlabel='famsup', ylabel='Count'>"
            ]
          },
          "metadata": {},
          "execution_count": 28
        },
        {
          "output_type": "display_data",
          "data": {
            "text/plain": [
              "<Figure size 800x800 with 1 Axes>"
            ],
            "image/png": "[encoded data removed]"
          },
          "metadata": {}
        }
      ]
    },
    {
      "cell_type": "markdown",
      "source": [
        "Majority of the students have family support\n"
      ],
      "metadata": {
        "id": "2j5lm9DInntI"
      },
      "id": "2j5lm9DInntI"
    },
    {
      "cell_type": "code",
      "source": [
        "sb.barplot(x='famsup',y='G3',data=grade_df)"
      ],
      "metadata": {
        "colab": {
          "base_uri": "https://localhost:8080/",
          "height": 475
        },
        "id": "LV40GgVLmmOG",
        "outputId": "cdcfa72d-e208-4e56-b24a-bb25c4ac5546"
      },
      "id": "LV40GgVLmmOG",
      "execution_count": 29,
      "outputs": [
        {
          "output_type": "execute_result",
          "data": {
            "text/plain": [
              "<Axes: xlabel='famsup', ylabel='G3'>"
            ]
          },
          "metadata": {},
          "execution_count": 29
        },
        {
          "output_type": "display_data",
          "data": {
            "text/plain": [
              "<Figure size 640x480 with 1 Axes>"
            ],
            "image/png": "[encoded data removed]"
          },
          "metadata": {}
        }
      ]
    },
    {
      "cell_type": "markdown",
      "source": [
        "Students with family support seems to score better compared to students without family support. "
      ],
      "metadata": {
        "id": "jMCrbPE4n-Ye"
      },
      "id": "jMCrbPE4n-Ye"
    },
    {
      "cell_type": "code",
      "source": [
        "f = plt.figure(figsize=(8, 10))\n",
        "sb.boxplot(x='famsup',y='G3',data=grade_df)"
      ],
      "metadata": {
        "colab": {
          "base_uri": "https://localhost:8080/",
          "height": 875
        },
        "id": "rAP_pSnnn4o2",
        "outputId": "148efaef-a2ef-4e9b-e5a2-8c6129a48991"
      },
      "id": "rAP_pSnnn4o2",
      "execution_count": 32,
      "outputs": [
        {
          "output_type": "execute_result",
          "data": {
            "text/plain": [
              "<Axes: xlabel='famsup', ylabel='G3'>"
            ]
          },
          "metadata": {},
          "execution_count": 32
        },
        {
          "output_type": "display_data",
          "data": {
            "text/plain": [
              "<Figure size 800x1000 with 1 Axes>"
            ],
            "image/png": "[encoded data removed]"
          },
          "metadata": {}
        }
      ]
    },
    {
      "cell_type": "markdown",
      "source": [
        "famsup(yes) and famsup(no) have approx the same median and maximum value but famsup(yes) have a higher minimum value compared to famsup(no)"
      ],
      "metadata": {
        "id": "TfL9rSR6oct2"
      },
      "id": "TfL9rSR6oct2"
    },
    {
      "cell_type": "markdown",
      "source": [
        "## Mjob"
      ],
      "metadata": {
        "id": "v9ffplUYo4qd"
      },
      "id": "v9ffplUYo4qd"
    },
    {
      "cell_type": "code",
      "source": [
        "freetime = pd.DataFrame(grade_df['Mjob'])\n",
        "f = plt.figure(figsize=(8, 8))\n",
        "sb.histplot(data = grade_df['Mjob'], kde = False, discrete = True)"
      ],
      "metadata": {
        "colab": {
          "base_uri": "https://localhost:8080/",
          "height": 722
        },
        "id": "IF25lox1oQqg",
        "outputId": "fb39ad89-655d-45b2-8b61-23e09028ee4e"
      },
      "id": "IF25lox1oQqg",
      "execution_count": 33,
      "outputs": [
        {
          "output_type": "execute_result",
          "data": {
            "text/plain": [
              "<Axes: xlabel='Mjob', ylabel='Count'>"
            ]
          },
          "metadata": {},
          "execution_count": 33
        },
        {
          "output_type": "display_data",
          "data": {
            "text/plain": [
              "<Figure size 800x800 with 1 Axes>"
            ],
            "image/png": "[encoded data removed]"
          },
          "metadata": {}
        }
      ]
    },
    {
      "cell_type": "markdown",
      "source": [
        "Majority of the students whose mothers' job is under the catergory other, followed by at_home/service, teacher and health."
      ],
      "metadata": {
        "id": "76tsQJPOpFR2"
      },
      "id": "76tsQJPOpFR2"
    },
    {
      "cell_type": "code",
      "source": [
        "sb.barplot(x='Mjob',y='G3',data=grade_df)"
      ],
      "metadata": {
        "colab": {
          "base_uri": "https://localhost:8080/",
          "height": 476
        },
        "id": "lV73e26xpCUl",
        "outputId": "2e8eef26-e7f8-4ab4-f6dd-44c5d141aef6"
      },
      "id": "lV73e26xpCUl",
      "execution_count": 34,
      "outputs": [
        {
          "output_type": "execute_result",
          "data": {
            "text/plain": [
              "<Axes: xlabel='Mjob', ylabel='G3'>"
            ]
          },
          "metadata": {},
          "execution_count": 34
        },
        {
          "output_type": "display_data",
          "data": {
            "text/plain": [
              "<Figure size 640x480 with 1 Axes>"
            ],
            "image/png": "[encoded data removed]"
          },
          "metadata": {}
        }
      ]
    },
    {
      "cell_type": "markdown",
      "source": [
        "Majority of students whose mothers' job that fall under the catergory teacher/health scored higher compared to students whose mothers' job that fall under the caterogory at_home, other and services. "
      ],
      "metadata": {
        "id": "oAzYItd4pUk-"
      },
      "id": "oAzYItd4pUk-"
    },
    {
      "cell_type": "code",
      "source": [
        "f = plt.figure(figsize=(8, 10))\n",
        "sb.boxplot(x='Mjob',y='G3',data=grade_df)"
      ],
      "metadata": {
        "colab": {
          "base_uri": "https://localhost:8080/",
          "height": 876
        },
        "id": "ZITq4lykpSXj",
        "outputId": "671081e2-19f4-4070-abf2-b772d7b1e94c"
      },
      "id": "ZITq4lykpSXj",
      "execution_count": 35,
      "outputs": [
        {
          "output_type": "execute_result",
          "data": {
            "text/plain": [
              "<Axes: xlabel='Mjob', ylabel='G3'>"
            ]
          },
          "metadata": {},
          "execution_count": 35
        },
        {
          "output_type": "display_data",
          "data": {
            "text/plain": [
              "<Figure size 800x1000 with 1 Axes>"
            ],
            "image/png": "[encoded data removed]"
          },
          "metadata": {}
        }
      ]
    },
    {
      "cell_type": "markdown",
      "source": [
        "students whose mothers' job that falls under the caterogry health and teacher have a higher median compared to jobs that fall under the other catergory. At the same time, job that falls under the catergory teacher have a higher maximum value compared to health."
      ],
      "metadata": {
        "id": "FsfWW9TUpvdf"
      },
      "id": "FsfWW9TUpvdf"
    },
    {
      "cell_type": "code",
      "source": [],
      "metadata": {
        "id": "LrR43EeQpsk7"
      },
      "id": "LrR43EeQpsk7",
      "execution_count": null,
      "outputs": []
    }
  ],
  "metadata": {
    "kernelspec": {
      "display_name": "Python 3 (ipykernel)",
      "language": "python",
      "name": "python3"
    },
    "language_info": {
      "codemirror_mode": {
        "name": "ipython",
        "version": 3
      },
      "file_extension": ".py",
      "mimetype": "text/x-python",
      "name": "python",
      "nbconvert_exporter": "python",
      "pygments_lexer": "ipython3",
      "version": "3.9.13"
    },
    "colab": {
      "provenance": []
    }
  },
  "nbformat": 4,
  "nbformat_minor": 5
}