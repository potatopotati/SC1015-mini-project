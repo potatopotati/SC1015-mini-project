{
 "cells": [
  {
   "cell_type": "markdown",
   "id": "V2NbnWtDPPqI",
   "metadata": {
    "id": "V2NbnWtDPPqI"
   },
   "source": [
    "# Machine Learning (ML)"
   ]
  },
  {
   "cell_type": "code",
   "execution_count": 30,
   "id": "xgL-VfOGZj-Z",
   "metadata": {
    "id": "xgL-VfOGZj-Z"
   },
   "outputs": [],
   "source": [
    "top6df_cat=grade_df[['freetime','famrel','studytime','Fjob','Mjob']]\n",
    "top6df_num=grade_df[['age']]"
   ]
  },
  {
   "cell_type": "code",
   "execution_count": 31,
   "id": "_9JDgGcdZtOD",
   "metadata": {
    "colab": {
     "base_uri": "https://localhost:8080/"
    },
    "id": "_9JDgGcdZtOD",
    "outputId": "217421ad-6903-428f-dfe4-9d2aa941d73d"
   },
   "outputs": [
    {
     "name": "stdout",
     "output_type": "stream",
     "text": [
      "<class 'pandas.core.frame.DataFrame'>\n",
      "RangeIndex: 649 entries, 0 to 648\n",
      "Data columns (total 24 columns):\n",
      " #   Column         Non-Null Count  Dtype  \n",
      "---  ------         --------------  -----  \n",
      " 0   freetime_1     649 non-null    float64\n",
      " 1   freetime_2     649 non-null    float64\n",
      " 2   freetime_3     649 non-null    float64\n",
      " 3   freetime_4     649 non-null    float64\n",
      " 4   freetime_5     649 non-null    float64\n",
      " 5   famrel_1       649 non-null    float64\n",
      " 6   famrel_2       649 non-null    float64\n",
      " 7   famrel_3       649 non-null    float64\n",
      " 8   famrel_4       649 non-null    float64\n",
      " 9   famrel_5       649 non-null    float64\n",
      " 10  studytime_1    649 non-null    float64\n",
      " 11  studytime_2    649 non-null    float64\n",
      " 12  studytime_3    649 non-null    float64\n",
      " 13  studytime_4    649 non-null    float64\n",
      " 14  Fjob_at_home   649 non-null    float64\n",
      " 15  Fjob_health    649 non-null    float64\n",
      " 16  Fjob_other     649 non-null    float64\n",
      " 17  Fjob_services  649 non-null    float64\n",
      " 18  Fjob_teacher   649 non-null    float64\n",
      " 19  Mjob_at_home   649 non-null    float64\n",
      " 20  Mjob_health    649 non-null    float64\n",
      " 21  Mjob_other     649 non-null    float64\n",
      " 22  Mjob_services  649 non-null    float64\n",
      " 23  Mjob_teacher   649 non-null    float64\n",
      "dtypes: float64(24)\n",
      "memory usage: 121.8 KB\n"
     ]
    }
   ],
   "source": [
    "ohe.fit(top6df_cat)\n",
    "top6df_ohe = pd.DataFrame(ohe.transform(top6df_cat).toarray(), \n",
    "                                  columns=ohe.get_feature_names_out(top6df_cat.columns)) #change ohe.get_feature_names_out to ohe.get_feature_names if not working\n",
    "\n",
    "# Check the encoded variables\n",
    "top6df_ohe.info()"
   ]
  },
  {
   "cell_type": "code",
   "execution_count": 32,
   "id": "Av9Qj0zjZFRt",
   "metadata": {
    "colab": {
     "base_uri": "https://localhost:8080/"
    },
    "id": "Av9Qj0zjZFRt",
    "outputId": "98413632-3ed5-4783-8ef0-c1e705a44a2e"
   },
   "outputs": [
    {
     "name": "stdout",
     "output_type": "stream",
     "text": [
      "<class 'pandas.core.frame.DataFrame'>\n",
      "RangeIndex: 649 entries, 0 to 648\n",
      "Data columns (total 25 columns):\n",
      " #   Column         Non-Null Count  Dtype  \n",
      "---  ------         --------------  -----  \n",
      " 0   freetime_1     649 non-null    float64\n",
      " 1   freetime_2     649 non-null    float64\n",
      " 2   freetime_3     649 non-null    float64\n",
      " 3   freetime_4     649 non-null    float64\n",
      " 4   freetime_5     649 non-null    float64\n",
      " 5   famrel_1       649 non-null    float64\n",
      " 6   famrel_2       649 non-null    float64\n",
      " 7   famrel_3       649 non-null    float64\n",
      " 8   famrel_4       649 non-null    float64\n",
      " 9   famrel_5       649 non-null    float64\n",
      " 10  studytime_1    649 non-null    float64\n",
      " 11  studytime_2    649 non-null    float64\n",
      " 12  studytime_3    649 non-null    float64\n",
      " 13  studytime_4    649 non-null    float64\n",
      " 14  Fjob_at_home   649 non-null    float64\n",
      " 15  Fjob_health    649 non-null    float64\n",
      " 16  Fjob_other     649 non-null    float64\n",
      " 17  Fjob_services  649 non-null    float64\n",
      " 18  Fjob_teacher   649 non-null    float64\n",
      " 19  Mjob_at_home   649 non-null    float64\n",
      " 20  Mjob_health    649 non-null    float64\n",
      " 21  Mjob_other     649 non-null    float64\n",
      " 22  Mjob_services  649 non-null    float64\n",
      " 23  Mjob_teacher   649 non-null    float64\n",
      " 24  age            649 non-null    int64  \n",
      "dtypes: float64(24), int64(1)\n",
      "memory usage: 126.9 KB\n"
     ]
    }
   ],
   "source": [
    "top6df= grade_ohe=pd.concat([top6df_ohe,top6df_num],\n",
    "                   sort=False,axis=1).reindex(index=top6df_num.index)\n",
    "\n",
    "top6df.info()"
   ]
  },
  {
   "cell_type": "markdown",
   "id": "ZyOYYDzGfCry",
   "metadata": {
    "id": "ZyOYYDzGfCry"
   },
   "source": [
    "## Top 6 Random Forest"
   ]
  },
  {
   "cell_type": "code",
   "execution_count": 42,
   "id": "x1hUUEVd6T_K",
   "metadata": {
    "colab": {
     "base_uri": "https://localhost:8080/"
    },
    "id": "x1hUUEVd6T_K",
    "outputId": "a48d2604-81e5-490b-c7c5-b0268dbf2b75"
   },
   "outputs": [
    {
     "name": "stdout",
     "output_type": "stream",
     "text": [
      "Training Features Shape: (486, 24)\n",
      "Training Labels Shape: (486,)\n",
      "Testing Features Shape: (163, 24)\n",
      "Testing Labels Shape: (163,)\n",
      "----------Train dataset----------\n",
      "Accuracy: 0.6625514403292181\n",
      "              precision    recall  f1-score   support\n",
      "\n",
      "           0       1.00      0.58      0.74        12\n",
      "           1       0.00      0.00      0.00         1\n",
      "           5       0.00      0.00      0.00         1\n",
      "           6       1.00      1.00      1.00         2\n",
      "           7       0.57      0.57      0.57         7\n",
      "           8       0.61      0.68      0.64        28\n",
      "           9       0.67      0.48      0.56        29\n",
      "          10       0.63      0.72      0.67        75\n",
      "          11       0.66      0.75      0.71        81\n",
      "          12       0.49      0.55      0.52        47\n",
      "          13       0.58      0.72      0.64        57\n",
      "          14       0.89      0.67      0.77        46\n",
      "          15       0.75      0.71      0.73        38\n",
      "          16       0.75      0.43      0.55        28\n",
      "          17       0.82      0.70      0.76        20\n",
      "          18       0.80      0.67      0.73        12\n",
      "          19       1.00      1.00      1.00         2\n",
      "\n",
      "    accuracy                           0.66       486\n",
      "   macro avg       0.66      0.60      0.62       486\n",
      "weighted avg       0.68      0.66      0.66       486\n",
      "\n",
      "----------Test dataset----------\n",
      "Accuracy: 0.12883435582822086\n",
      "              precision    recall  f1-score   support\n",
      "\n",
      "           0       0.00      0.00      0.00         3\n",
      "           6       0.00      0.00      0.00         1\n",
      "           7       0.00      0.00      0.00         3\n",
      "           8       0.00      0.00      0.00         7\n",
      "           9       0.14      0.17      0.15         6\n",
      "          10       0.26      0.36      0.30        22\n",
      "          11       0.14      0.22      0.17        23\n",
      "          12       0.12      0.08      0.10        25\n",
      "          13       0.19      0.12      0.15        25\n",
      "          14       0.00      0.00      0.00        17\n",
      "          15       0.00      0.00      0.00        11\n",
      "          16       0.07      0.12      0.09         8\n",
      "          17       0.14      0.11      0.12         9\n",
      "          18       0.00      0.00      0.00         3\n",
      "\n",
      "    accuracy                           0.13       163\n",
      "   macro avg       0.08      0.08      0.08       163\n",
      "weighted avg       0.12      0.13      0.12       163\n",
      "\n"
     ]
    }
   ],
   "source": [
    "from sklearn.model_selection import train_test_split\n",
    "import warnings\n",
    "warnings.filterwarnings('ignore')\n",
    "T6_Response=np.array(grade_df['G3'])\n",
    "\n",
    "T6_Predictor_list=list(top6df_ohe)\n",
    "top6df_ohe_array=np.array(top6df_ohe)\n",
    "\n",
    "t6_train_X, t6_test_X, t6_train_Y, t6_test_Y= train_test_split(top6df_ohe_array,T6_Response,test_size=0.25,random_state=0)\n",
    "\n",
    "#check size (check if there is missing values)\n",
    "print('Training Features Shape:', t6_train_X.shape)\n",
    "print('Training Labels Shape:', t6_train_Y.shape)\n",
    "print('Testing Features Shape:', t6_test_X.shape)\n",
    "print('Testing Labels Shape:', t6_test_Y.shape)\n",
    "\n",
    "# Instantiate model with 1000 decision trees\n",
    "from sklearn.ensemble import RandomForestClassifier\n",
    "from sklearn.metrics import accuracy_score, confusion_matrix, precision_score, recall_score, ConfusionMatrixDisplay\n",
    "from sklearn.metrics import classification_report\n",
    "\n",
    "random = RandomForestClassifier(n_estimators = 1000, random_state = 0)\n",
    "# Train the model on training data\n",
    "random.fit(t6_train_X, t6_train_Y);\n",
    "\n",
    "# Use the forest's predict method on the train data\n",
    "t6_predictions_train = random.predict(t6_train_X)\n",
    "\n",
    "accuracy = accuracy_score(t6_train_Y, t6_predictions_train)\n",
    "\n",
    "print(\"----------Train dataset----------\")\n",
    "print(\"Accuracy:\", accuracy)\n",
    "print(classification_report(t6_train_Y, t6_predictions_train))\n",
    "\n",
    "# Use the forest's predict method on the test data\n",
    "t6_predictions_test = random.predict(t6_test_X)\n",
    "\n",
    "accuracy = accuracy_score(t6_test_Y, t6_predictions_test)\n",
    "\n",
    "print(\"----------Test dataset----------\")\n",
    "print(\"Accuracy:\", accuracy)\n",
    "print(classification_report(t6_test_Y, t6_predictions_test))\n"
   ]
  },
  {
   "cell_type": "markdown",
   "id": "w_Z62m5KEQDQ",
   "metadata": {
    "id": "w_Z62m5KEQDQ"
   },
   "source": [
    "# Decision Tree for top 6"
   ]
  },
  {
   "cell_type": "code",
   "execution_count": 43,
   "id": "Aff7qIdRxVTh",
   "metadata": {
    "colab": {
     "base_uri": "https://localhost:8080/"
    },
    "id": "Aff7qIdRxVTh",
    "outputId": "a3a14b86-df1c-4e43-930f-d6a3856fdc91"
   },
   "outputs": [
    {
     "name": "stdout",
     "output_type": "stream",
     "text": [
      "Goodness of Fit of Model \tTrain Dataset\n",
      "Classification Accuracy \t: 0.2222222222222222\n",
      "              precision    recall  f1-score   support\n",
      "\n",
      "           0       0.00      0.00      0.00         9\n",
      "           5       0.00      0.00      0.00         1\n",
      "           6       0.00      0.00      0.00         2\n",
      "           7       0.00      0.00      0.00         7\n",
      "           8       0.00      0.00      0.00        27\n",
      "           9       0.00      0.00      0.00        27\n",
      "          10       0.26      0.40      0.31        77\n",
      "          11       0.34      0.31      0.32        75\n",
      "          12       0.17      0.73      0.28        56\n",
      "          13       0.20      0.18      0.19        56\n",
      "          14       0.00      0.00      0.00        48\n",
      "          15       0.43      0.08      0.13        38\n",
      "          16       0.00      0.00      0.00        27\n",
      "          17       0.00      0.00      0.00        23\n",
      "          18       0.00      0.00      0.00        12\n",
      "          19       0.00      0.00      0.00         1\n",
      "\n",
      "    accuracy                           0.22       486\n",
      "   macro avg       0.09      0.11      0.08       486\n",
      "weighted avg       0.17      0.22      0.16       486\n",
      "\n",
      "\n",
      "Goodness of Fit of Model \tTest Dataset\n",
      "Classification Accuracy \t: 0.15950920245398773\n",
      "              precision    recall  f1-score   support\n",
      "\n",
      "           0       0.00      0.00      0.00         6\n",
      "           1       0.00      0.00      0.00         1\n",
      "           6       0.00      0.00      0.00         1\n",
      "           7       0.00      0.00      0.00         3\n",
      "           8       0.00      0.00      0.00         8\n",
      "           9       0.00      0.00      0.00         8\n",
      "          10       0.21      0.45      0.29        20\n",
      "          11       0.26      0.17      0.21        29\n",
      "          12       0.10      0.50      0.16        16\n",
      "          13       0.21      0.15      0.18        26\n",
      "          14       0.00      0.00      0.00        15\n",
      "          15       0.00      0.00      0.00        11\n",
      "          16       0.00      0.00      0.00         9\n",
      "          17       0.00      0.00      0.00         6\n",
      "          18       0.00      0.00      0.00         3\n",
      "          19       0.00      0.00      0.00         1\n",
      "\n",
      "    accuracy                           0.16       163\n",
      "   macro avg       0.05      0.08      0.05       163\n",
      "weighted avg       0.12      0.16      0.12       163\n",
      "\n",
      "\n"
     ]
    }
   ],
   "source": [
    "# Import essential models and functions from sklearn\n",
    "from sklearn.tree import DecisionTreeClassifier\n",
    "from sklearn.model_selection import train_test_split\n",
    "from sklearn.metrics import confusion_matrix\n",
    "warnings.filterwarnings('ignore')\n",
    "\n",
    "# Extract Response and Predictors\n",
    "# predictors = [\"freetime_1\",\"freetime_2\",\"freetime_3\",\"freetime_4\",\"freetime_5\",\n",
    "#               \"famrel_1\", \"famrel_2\", \"famrel_3\", \"famrel_4\", \"famrel_5\",\n",
    "#               \"Fjob_at_home\",\"Fjob_health\",\"Fjob_other\",\"Fjob_services\",\"Fjob_teacher\",\n",
    "#               \"Mjob_at_home\",\"Mjob_health\",\"Mjob_other\",\"Mjob_services\",\"Mjob_teacher\",\n",
    "#               \"reason_course\",\"reason_home\",\"reason_other\",\"reason_reputation\",\n",
    "#               \"famsup_no\",\"famsup_yes\"]\n",
    "\n",
    "y = pd.DataFrame(grade_df[\"G3\"])\n",
    "X = pd.DataFrame(top6df_ohe)\n",
    "\n",
    "# Split the Dataset into Train and Test\n",
    "X_train, X_test, y_train, y_test = train_test_split(X, y, test_size = 0.25)\n",
    "\n",
    "# Decision Tree using Train Data\n",
    "dectree = DecisionTreeClassifier(max_depth = 3)  # create the decision tree object\n",
    "dectree.fit(X_train, y_train)                    # train the decision tree model\n",
    "\n",
    "# Predict Response corresponding to Predictors\n",
    "y_train_pred = dectree.predict(X_train)\n",
    "y_test_pred = dectree.predict(X_test)\n",
    "\n",
    "# Check the Goodness of Fit (on Train Data)\n",
    "print(\"Goodness of Fit of Model \\tTrain Dataset\")\n",
    "print(\"Classification Accuracy \\t:\", dectree.score(X_train, y_train))\n",
    "print(classification_report(y_train, y_train_pred))\n",
    "print()\n",
    "\n",
    "# Check the Goodness of Fit (on Test Data)\n",
    "print(\"Goodness of Fit of Model \\tTest Dataset\")\n",
    "print(\"Classification Accuracy \\t:\", dectree.score(X_test, y_test))\n",
    "print(classification_report(y_test, y_test_pred))\n",
    "print()\n",
    "\n",
    "# # Plot the Confusion Matrix for Train and Test\n",
    "# f, axes = plt.subplots(1, 2, figsize=(12, 4))\n",
    "# sb.heatmap(confusion_matrix(y_train, y_train_pred),\n",
    "#            annot = True, fmt=\".0f\", annot_kws={\"size\": 18}, ax = axes[0])\n",
    "# sb.heatmap(confusion_matrix(y_test, y_test_pred), \n",
    "#            annot = True, fmt=\".0f\", annot_kws={\"size\": 18}, ax = axes[1])"
   ]
  },
  {
   "cell_type": "code",
   "execution_count": null,
   "id": "dKiMo0LuRufu",
   "metadata": {
    "id": "dKiMo0LuRufu"
   },
   "outputs": [],
   "source": []
  }
 ],
 "metadata": {
  "colab": {
   "provenance": []
  },
  "kernelspec": {
   "display_name": "Python 3 (ipykernel)",
   "language": "python",
   "name": "python3"
  },
  "language_info": {
   "codemirror_mode": {
    "name": "ipython",
    "version": 3
   },
   "file_extension": ".py",
   "mimetype": "text/x-python",
   "name": "python",
   "nbconvert_exporter": "python",
   "pygments_lexer": "ipython3",
   "version": "3.9.7"
  }
 },
 "nbformat": 4,
 "nbformat_minor": 5
}
